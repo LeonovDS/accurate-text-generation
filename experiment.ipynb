{
 "cells": [
  {
   "cell_type": "code",
   "id": "initial_id",
   "metadata": {
    "collapsed": true,
    "ExecuteTime": {
     "end_time": "2024-10-10T12:46:06.769649Z",
     "start_time": "2024-10-10T12:45:44.889013Z"
    }
   },
   "source": [
    "from sentence_transformers import SentenceTransformer\n",
    "\n",
    "from layers.embedding.sentence_transformer_embedding import SentenceTransformerEmbedding\n",
    "from layers.experiment.experiment import EmbeddingTopOneExperiment\n",
    "from layers.loading.filtering_book_loader import FilteringBookLoader\n",
    "from layers.model.configuration import Configuration\n",
    "from layers.segmentation.block_segmenter import BlockSegmenter\n",
    "\n",
    "configuration = Configuration(\n",
    "    loading=FilteringBookLoader([\n",
    "        lambda book: \"Роулинг\" in book.author\n",
    "    ]),\n",
    "    segmentation=BlockSegmenter(block_max_length=1000),\n",
    "    embedding=SentenceTransformerEmbedding(\n",
    "        lambda: SentenceTransformer('sentence-transformers/paraphrase-multilingual-MiniLM-L12-v2', device='cuda')\n",
    "    ),\n",
    "    sorter=None,\n",
    "    prompt_builder=None,\n",
    "    inference=None,\n",
    ")\n",
    "experiment = EmbeddingTopOneExperiment()\n",
    "experiment.run(configuration, \"Гарри Поттер получил волшебную палочку\")\n",
    "None\n"
   ],
   "outputs": [
    {
     "name": "stdout",
     "output_type": "stream",
     "text": [
      "Start experiment\n",
      "Input: Гарри Поттер получил волшебную палочку\n",
      "Calculate input embedding\n",
      "Read books\n",
      "Book count: 17\n",
      "Segment books\n",
      "Block count: 13445\n",
      "Calculate book embeddings\n",
      "Find best book\n",
      "Best book: Block(text='- Ничего страшного, Богрод потом нас выпустит! - успокоил всех Крюкохват. - Засветите, что ли, свои волшебные палочки. И поторопитесь, времени очень мало!\\n- Люмос!\\nГарри повел вокруг светящейся волшебной палочкой. В луче засверкали драгоценные камни - Гарри узнал поддельный меч Гриффиндора, лежавший на полке в куче какихто цепей. Рон и Гермиона тоже засветили волшебные палочки и рассматривали груды сокровищ.\\n- Гарри, может, вот это? А-аа-аа!\\nГермиона закричала от боли. Гарри посветил в ту сторону и увидел, как у нее из рук выпал украшенный драгоценностями кубок. Ударившись об пол, он рассыпался целым дождем кубков. В один миг десятки одинаковых кубков раскатились по всей пещере, настоящий уже невозможно было отличить.', position=958)\n"
     ]
    }
   ],
   "execution_count": 9
  },
  {
   "metadata": {
    "ExecuteTime": {
     "end_time": "2024-10-10T12:27:33.052725Z",
     "start_time": "2024-10-10T12:27:33.051061Z"
    }
   },
   "cell_type": "code",
   "source": "",
   "id": "dc39af49735f7153",
   "outputs": [],
   "execution_count": null
  }
 ],
 "metadata": {
  "kernelspec": {
   "display_name": "Python 3",
   "language": "python",
   "name": "python3"
  },
  "language_info": {
   "codemirror_mode": {
    "name": "ipython",
    "version": 2
   },
   "file_extension": ".py",
   "mimetype": "text/x-python",
   "name": "python",
   "nbconvert_exporter": "python",
   "pygments_lexer": "ipython2",
   "version": "2.7.6"
  }
 },
 "nbformat": 4,
 "nbformat_minor": 5
}
