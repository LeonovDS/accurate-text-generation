{
 "cells": [
  {
   "cell_type": "code",
   "id": "initial_id",
   "metadata": {
    "collapsed": true,
    "ExecuteTime": {
     "end_time": "2024-11-11T10:38:57.466372Z",
     "start_time": "2024-11-11T10:38:56.553681Z"
    }
   },
   "source": [
    "from tqdm import tqdm\n",
    "from model.block import Block, BlockWithEmbedding\n",
    "from layers.loader.book_loader import BookLoader\n",
    "from layers.loader.filtering_book_loader import FilteringBookLoader\n",
    "from layers.segmentation.block_segmenter import BlockSegmenter\n",
    "from layers.embedding.sentence_transformer_embedding import SentenceTransformerEmbedding\n",
    "from layers.persistance import duckdb_storage\n",
    "from model.book import Book\n",
    "from layers.segmentation.text_segmenter import TextSegmenter"
   ],
   "outputs": [],
   "execution_count": 1
  },
  {
   "metadata": {
    "ExecuteTime": {
     "end_time": "2024-11-11T10:39:03.782436Z",
     "start_time": "2024-11-11T10:38:57.470009Z"
    }
   },
   "cell_type": "code",
   "source": [
    "loader: BookLoader = FilteringBookLoader(filters=[])\n",
    "books: list[Book] = list(loader.read(\"data/\"))"
   ],
   "id": "eaea334f25992a2d",
   "outputs": [],
   "execution_count": 2
  },
  {
   "metadata": {
    "ExecuteTime": {
     "end_time": "2024-11-11T10:39:03.871285Z",
     "start_time": "2024-11-11T10:39:03.869535Z"
    }
   },
   "cell_type": "code",
   "source": "segmenter: TextSegmenter = BlockSegmenter(block_max_length=2000)",
   "id": "7c85238e572596fa",
   "outputs": [],
   "execution_count": 3
  },
  {
   "metadata": {
    "ExecuteTime": {
     "end_time": "2024-11-11T10:48:22.991715Z",
     "start_time": "2024-11-11T10:39:03.907113Z"
    }
   },
   "cell_type": "code",
   "source": [
    "with SentenceTransformerEmbedding(\n",
    "        model_name=\"sentence-transformers/paraphrase-multilingual-MiniLM-L12-v2\",\n",
    "        device=\"cuda\"\n",
    ") as embedding_model:\n",
    "    with duckdb_storage.DuckDBStorage(\"data.db\") as storage:\n",
    "        for book in tqdm(books):\n",
    "            blocks: list[Block] = segmenter.process(book.text)\n",
    "            blocks_with_embeddings: list[BlockWithEmbedding] = embedding_model.transform(blocks)\n",
    "            storage.add_book(book, blocks_with_embeddings)"
   ],
   "id": "8f9c1dfdbc47ad86",
   "outputs": [
    {
     "name": "stderr",
     "output_type": "stream",
     "text": [
      "/home/yshmgrt/Programming/accurate-text-generation/.venv/lib/python3.12/site-packages/sentence_transformers/cross_encoder/CrossEncoder.py:13: TqdmExperimentalWarning: Using `tqdm.autonotebook.tqdm` in notebook mode. Use `tqdm.tqdm` instead to force console mode (e.g. in jupyter console)\n",
      "  from tqdm.autonotebook import tqdm, trange\n",
      "/home/yshmgrt/Programming/accurate-text-generation/.venv/lib/python3.12/site-packages/transformers/tokenization_utils_base.py:1601: FutureWarning: `clean_up_tokenization_spaces` was not set. It will be set to `True` by default. This behavior will be depracted in transformers v4.45, and will be then set to `False` by default. For more details check this issue: https://github.com/huggingface/transformers/issues/31884\n",
      "  warnings.warn(\n",
      "  2%|▏         | 74/3575 [09:14<7:17:00,  7.49s/it] \n"
     ]
    },
    {
     "ename": "FatalException",
     "evalue": "FATAL Error: Failed to create checkpoint because of error: Could not remove file \"/home/yshmgrt/Programming/accurate-text-generation/data.duckdb.wal\": No such file or directory",
     "output_type": "error",
     "traceback": [
      "\u001B[0;31m---------------------------------------------------------------------------\u001B[0m",
      "\u001B[0;31mFatalException\u001B[0m                            Traceback (most recent call last)",
      "Cell \u001B[0;32mIn[4], line 9\u001B[0m\n\u001B[1;32m      7\u001B[0m blocks: \u001B[38;5;28mlist\u001B[39m[Block] \u001B[38;5;241m=\u001B[39m segmenter\u001B[38;5;241m.\u001B[39mprocess(book\u001B[38;5;241m.\u001B[39mtext)\n\u001B[1;32m      8\u001B[0m blocks_with_embeddings: \u001B[38;5;28mlist\u001B[39m[BlockWithEmbedding] \u001B[38;5;241m=\u001B[39m embedding_model\u001B[38;5;241m.\u001B[39mtransform(blocks)\n\u001B[0;32m----> 9\u001B[0m \u001B[43mstorage\u001B[49m\u001B[38;5;241;43m.\u001B[39;49m\u001B[43madd_book\u001B[49m\u001B[43m(\u001B[49m\u001B[43mbook\u001B[49m\u001B[43m,\u001B[49m\u001B[43m \u001B[49m\u001B[43mblocks_with_embeddings\u001B[49m\u001B[43m)\u001B[49m\n",
      "File \u001B[0;32m~/Programming/accurate-text-generation/layers/persistance/duckdb_storage.py:29\u001B[0m, in \u001B[0;36mDuckDBStorage.add_book\u001B[0;34m(self, book, blocks)\u001B[0m\n\u001B[1;32m     27\u001B[0m book_id \u001B[38;5;241m=\u001B[39m result\u001B[38;5;241m.\u001B[39mfetchone()[\u001B[38;5;241m0\u001B[39m]\n\u001B[1;32m     28\u001B[0m \u001B[38;5;28;01mfor\u001B[39;00m block \u001B[38;5;129;01min\u001B[39;00m blocks:\n\u001B[0;32m---> 29\u001B[0m     \u001B[38;5;28;43mself\u001B[39;49m\u001B[38;5;241;43m.\u001B[39;49m\u001B[43mconnection\u001B[49m\u001B[38;5;241;43m.\u001B[39;49m\u001B[43mexecute\u001B[49m\u001B[43m(\u001B[49m\u001B[38;5;124;43m\"\"\"\u001B[39;49m\n\u001B[1;32m     30\u001B[0m \u001B[38;5;124;43m        INSERT INTO blocks (book_id, text, index, embedding) VALUES (?, ?, ?, ?);\u001B[39;49m\n\u001B[1;32m     31\u001B[0m \u001B[38;5;124;43m    \u001B[39;49m\u001B[38;5;124;43m\"\"\"\u001B[39;49m\u001B[43m,\u001B[49m\u001B[43m \u001B[49m\u001B[43m(\u001B[49m\u001B[43mbook_id\u001B[49m\u001B[43m,\u001B[49m\u001B[43m \u001B[49m\u001B[43mblock\u001B[49m\u001B[43m[\u001B[49m\u001B[38;5;241;43m0\u001B[39;49m\u001B[43m]\u001B[49m\u001B[38;5;241;43m.\u001B[39;49m\u001B[43mtext\u001B[49m\u001B[43m,\u001B[49m\u001B[43m \u001B[49m\u001B[43mblock\u001B[49m\u001B[43m[\u001B[49m\u001B[38;5;241;43m0\u001B[39;49m\u001B[43m]\u001B[49m\u001B[38;5;241;43m.\u001B[39;49m\u001B[43mposition\u001B[49m\u001B[43m,\u001B[49m\u001B[43m \u001B[49m\u001B[43mblock\u001B[49m\u001B[43m[\u001B[49m\u001B[38;5;241;43m1\u001B[39;49m\u001B[43m]\u001B[49m\u001B[43m)\u001B[49m\u001B[43m)\u001B[49m\n",
      "\u001B[0;31mFatalException\u001B[0m: FATAL Error: Failed to create checkpoint because of error: Could not remove file \"/home/yshmgrt/Programming/accurate-text-generation/data.duckdb.wal\": No such file or directory"
     ]
    }
   ],
   "execution_count": 4
  }
 ],
 "metadata": {
  "kernelspec": {
   "display_name": "Python 3",
   "language": "python",
   "name": "python3"
  },
  "language_info": {
   "codemirror_mode": {
    "name": "ipython",
    "version": 2
   },
   "file_extension": ".py",
   "mimetype": "text/x-python",
   "name": "python",
   "nbconvert_exporter": "python",
   "pygments_lexer": "ipython2",
   "version": "2.7.6"
  }
 },
 "nbformat": 4,
 "nbformat_minor": 5
}
