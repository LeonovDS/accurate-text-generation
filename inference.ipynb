{
 "cells": [
  {
   "metadata": {
    "ExecuteTime": {
     "end_time": "2024-11-11T11:17:40.840043Z",
     "start_time": "2024-11-11T11:17:39.882835Z"
    }
   },
   "cell_type": "code",
   "source": [
    "from layers.embedding.sentence_transformer_embedding import SentenceTransformerEmbedding\n",
    "from layers.inference.unsloth_inference_model import UnslothInferenceModel\n",
    "from layers.persistance.duckdb_storage import DuckDBStorage\n",
    "from layers.prompt.query_prompt_builder import QueryOnlyPromptBuilder\n",
    "from layers.sort.similarity_sorter import SimilaritySorter\n",
    "from model.block import BlockWithEmbedding, Block"
   ],
   "id": "f224dc0f3c5c97fb",
   "outputs": [],
   "execution_count": 1
  },
  {
   "cell_type": "code",
   "id": "initial_id",
   "metadata": {
    "collapsed": true,
    "ExecuteTime": {
     "end_time": "2024-11-11T11:17:40.845651Z",
     "start_time": "2024-11-11T11:17:40.843140Z"
    }
   },
   "source": "query = \"Расскажи сказку о Гарри Поттере времен первого курса\"",
   "outputs": [],
   "execution_count": 2
  },
  {
   "metadata": {
    "ExecuteTime": {
     "end_time": "2024-11-11T11:17:42.173519Z",
     "start_time": "2024-11-11T11:17:40.901722Z"
    }
   },
   "cell_type": "code",
   "source": [
    "with DuckDBStorage(\"data.db\") as storage:\n",
    "    blocks: list[BlockWithEmbedding] = storage.get_blocks()"
   ],
   "id": "d017c90e6933494",
   "outputs": [],
   "execution_count": 3
  },
  {
   "metadata": {
    "ExecuteTime": {
     "end_time": "2024-11-11T11:17:49.019780Z",
     "start_time": "2024-11-11T11:17:42.177269Z"
    }
   },
   "cell_type": "code",
   "source": [
    "with SentenceTransformerEmbedding(\"sentence-transformers/paraphrase-multilingual-MiniLM-L12-v2\", device=\"cuda\") as embedding_model:\n",
    "    sorter = SimilaritySorter()\n",
    "    sorted_blocks: list[BlockWithEmbedding] = sorter.sort(embedding_model, blocks, query)"
   ],
   "id": "59fa4e4d9761c674",
   "outputs": [
    {
     "name": "stderr",
     "output_type": "stream",
     "text": [
      "/home/yshmgrt/Programming/accurate-text-generation/.venv/lib/python3.12/site-packages/sentence_transformers/cross_encoder/CrossEncoder.py:13: TqdmExperimentalWarning: Using `tqdm.autonotebook.tqdm` in notebook mode. Use `tqdm.tqdm` instead to force console mode (e.g. in jupyter console)\n",
      "  from tqdm.autonotebook import tqdm, trange\n",
      "/home/yshmgrt/Programming/accurate-text-generation/.venv/lib/python3.12/site-packages/transformers/tokenization_utils_base.py:1601: FutureWarning: `clean_up_tokenization_spaces` was not set. It will be set to `True` by default. This behavior will be depracted in transformers v4.45, and will be then set to `False` by default. For more details check this issue: https://github.com/huggingface/transformers/issues/31884\n",
      "  warnings.warn(\n"
     ]
    }
   ],
   "execution_count": 4
  },
  {
   "metadata": {
    "ExecuteTime": {
     "end_time": "2024-11-11T11:17:49.025915Z",
     "start_time": "2024-11-11T11:17:49.024241Z"
    }
   },
   "cell_type": "code",
   "source": [
    "prompt_builder = QueryOnlyPromptBuilder()\n",
    "prompt = prompt_builder.process(sorted_blocks, (Block(query, 0),))"
   ],
   "id": "ab0e60502dbbbb32",
   "outputs": [],
   "execution_count": 5
  },
  {
   "metadata": {
    "ExecuteTime": {
     "end_time": "2024-11-11T11:18:21.694466Z",
     "start_time": "2024-11-11T11:17:49.080160Z"
    }
   },
   "cell_type": "code",
   "source": [
    "with UnslothInferenceModel(model_name=\"unsloth/Meta-Llama-3.1-8B\") as inference_model:\n",
    "    print(inference_model.generate(prompt))"
   ],
   "id": "bcd2df3501c4c405",
   "outputs": [
    {
     "name": "stdout",
     "output_type": "stream",
     "text": [
      "🦥 Unsloth: Will patch your computer to enable 2x faster free finetuning.\n",
      "==((====))==  Unsloth 2024.10.7: Fast Llama patching. Transformers = 4.44.2.\n",
      "   \\\\   /|    GPU: NVIDIA GeForce RTX 4070 Laptop GPU. Max memory: 7.649 GB. Platform = Linux.\n",
      "O^O/ \\_/ \\    Pytorch: 2.5.0+cu124. CUDA = 8.9. CUDA Toolkit = 12.4.\n",
      "\\        /    Bfloat16 = TRUE. FA [Xformers = 0.0.28.post2. FA2 = False]\n",
      " \"-____-\"     Free Apache license: http://github.com/unslothai/unsloth\n"
     ]
    },
    {
     "name": "stderr",
     "output_type": "stream",
     "text": [
      "<string>:209: SyntaxWarning: invalid escape sequence '\\ '\n",
      "<string>:210: SyntaxWarning: invalid escape sequence '\\_'\n",
      "<string>:211: SyntaxWarning: invalid escape sequence '\\ '\n",
      "<string>:209: SyntaxWarning: invalid escape sequence '\\ '\n",
      "<string>:210: SyntaxWarning: invalid escape sequence '\\_'\n",
      "<string>:211: SyntaxWarning: invalid escape sequence '\\ '\n",
      "Unsloth: We fixed a gradient accumulation bug, but it seems like you don't have the latest transformers version!\n",
      "Please update transformers, TRL and unsloth via:\n",
      "`pip install --upgrade --no-cache-dir unsloth git+https://github.com/huggingface/transformers.git git+https://github.com/huggingface/trl.git`\n"
     ]
    },
    {
     "name": "stdout",
     "output_type": "stream",
     "text": [
      "['<|begin_of_text|>Расскажи сказку о Гарри Поттере времен первого курса\\nРасскажи сказку о Гарри Поттере времен первого курса\\nВашему вниманию предлагается сказка о Гарри Поттере времен первого курса. Название сказки: Гарри Поттер и философский камень. Автор: Джоан Роулинг. Сказка написана на английском языке.\\nThe story of Harry Potter and the Philosopher’s Stone begins in 1980. The Potters are a family of wizards. The father is a wizard, the mother is a witch. They have a son Harry, who is a wizard. But he has no idea about it. The boy lives in the village of Little Whinging in England. He lives with his aunt and uncle, who are not wizards. They do not know that Harry is a wizard. He is very unhappy. He wants to be a wizard, but he does not know how to do it.\\nOne day Harry’s aunt and uncle go to London. They leave Harry alone in the house. Harry does not know what to do. He is very unhappy. He is sitting in a chair, and he is thinking about what to do. Then he sees a letter in the postbox. He takes it and opens it. He reads it and finds out that he is a wizard. He is very happy. He is going to be a wizard. He is going to go to Hogwarts School of Witchcraft and Wizardry. He is going to live there. He is going to learn how to be a wizard. He is going to have a wonderful life.\\nHarry Potter and the Philosopher’s Stone is a book about a boy named Harry Potter. He is a wizard. He goes to Hogwarts School of Witchcraft and Wizardry. He learns how to be a wizard. He has a wonderful life. He has many friends. He has a lot of fun. He has a lot of adventures. He has a lot of problems. He has a lot of happy moments. He has a lot of sad moments. He has a lot of exciting moments. He has a lot of boring moments. He has a lot of interesting moments. He has a lot of dangerous moments. He has a lot of happy endings.\\nHarry Potter and the Philosopher’s Stone is a book about a boy named Harry Potter. He is a wizard. He goes to Hogwarts School of Witchcraft and Wizardry. He learns how to be a wizard. He has a wonderful life. He has many friends. He']\n"
     ]
    }
   ],
   "execution_count": 6
  }
 ],
 "metadata": {
  "kernelspec": {
   "display_name": "Python 3",
   "language": "python",
   "name": "python3"
  },
  "language_info": {
   "codemirror_mode": {
    "name": "ipython",
    "version": 2
   },
   "file_extension": ".py",
   "mimetype": "text/x-python",
   "name": "python",
   "nbconvert_exporter": "python",
   "pygments_lexer": "ipython2",
   "version": "2.7.6"
  }
 },
 "nbformat": 4,
 "nbformat_minor": 5
}
