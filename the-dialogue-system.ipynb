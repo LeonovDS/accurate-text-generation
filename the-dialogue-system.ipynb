{
 "cells": [
  {
   "cell_type": "markdown",
   "id": "28678833-93c2-436c-a114-522d85052e43",
   "metadata": {},
   "source": [
    "# Генерация достоверных текстов"
   ]
  },
  {
   "cell_type": "markdown",
   "id": "bc782d6a-4626-46f3-91a0-7f6beb798515",
   "metadata": {},
   "source": [
    "## Загрузка текстов"
   ]
  }
 ],
 "metadata": {
  "kernelspec": {
   "display_name": "Python 3 (ipykernel)",
   "language": "python",
   "name": "python3"
  },
  "language_info": {
   "codemirror_mode": {
    "name": "ipython",
    "version": 3
   },
   "file_extension": ".py",
   "mimetype": "text/x-python",
   "name": "python",
   "nbconvert_exporter": "python",
   "pygments_lexer": "ipython3",
   "version": "3.12.6"
  }
 },
 "nbformat": 4,
 "nbformat_minor": 5
}
