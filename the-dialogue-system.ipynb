{
 "cells": [
  {
   "cell_type": "markdown",
   "id": "28678833-93c2-436c-a114-522d85052e43",
   "metadata": {},
   "source": "# Генерация достоверных текстов"
  },
  {
   "cell_type": "markdown",
   "id": "bc782d6a-4626-46f3-91a0-7f6beb798515",
   "metadata": {},
   "source": [
    "## Загрузка текстов"
   ]
  },
  {
   "cell_type": "markdown",
   "id": "f9f80faa-8dfd-443a-9c1c-0ea5d96bc1f0",
   "metadata": {},
   "source": [
    "### Список книг\n",
    "Задача: составить список текстов и сложить в dataframe"
   ]
  },
  {
   "cell_type": "code",
   "id": "6c27870e-cd7e-478b-9e2f-811049fb0b87",
   "metadata": {
    "ExecuteTime": {
     "end_time": "2024-10-07T16:00:16.123777Z",
     "start_time": "2024-10-07T16:00:15.918981Z"
    }
   },
   "source": [
    "import os\n",
    "\n",
    "import numpy as np\n",
    "import pandas as pd\n",
    "\n",
    "from src.model import BlockWithEmbedding, Block, Book"
   ],
   "outputs": [],
   "execution_count": 1
  },
  {
   "cell_type": "code",
   "id": "4d3ac85c-bbc9-48d7-b753-4700b15fd310",
   "metadata": {
    "ExecuteTime": {
     "end_time": "2024-10-07T16:00:16.128621Z",
     "start_time": "2024-10-07T16:00:16.126882Z"
    }
   },
   "source": [
    "DATA_DIR = 'data/'"
   ],
   "outputs": [],
   "execution_count": 2
  },
  {
   "cell_type": "code",
   "id": "bc72852f-9905-4eb3-9a9c-4d21ad32d0c1",
   "metadata": {
    "ExecuteTime": {
     "end_time": "2024-10-07T16:00:16.188559Z",
     "start_time": "2024-10-07T16:00:16.177790Z"
    }
   },
   "source": [
    "def get_row(root, file):\n",
    "    parts = root.split('/')[1:]\n",
    "    author = parts[0]\n",
    "    series = '/'.join(parts[1:])\n",
    "    title = file[:-4]\n",
    "    path = os.path.join(root, file)\n",
    "    return author, series, title, path\n",
    "\n",
    "\n",
    "books = pd.DataFrame(\n",
    "    [get_row(root, file) for root, dirs, files in os.walk(DATA_DIR) for file in files],\n",
    "    columns=[\"author\", \"series\", \"title\", \"path\"]\n",
    ")"
   ],
   "outputs": [],
   "execution_count": 3
  },
  {
   "cell_type": "markdown",
   "id": "0e23711d-37bc-4dfd-a322-073cf9f6d24a",
   "metadata": {},
   "source": [
    "## Эмбеддинги\n",
    "Задача: инициализировать модель"
   ]
  },
  {
   "cell_type": "code",
   "id": "521cbeea-e5cd-440d-a013-47961636d6cf",
   "metadata": {
    "ExecuteTime": {
     "end_time": "2024-10-28T17:19:32.577240Z",
     "start_time": "2024-10-28T17:18:30.895718Z"
    }
   },
   "source": [
    "from sentence_transformers import SentenceTransformer\n",
    "\n",
    "embedding_model = SentenceTransformer('sentence-transformers/paraphrase-multilingual-MiniLM-L12-v2', device='cuda')\n",
    "# model = SentenceTransformer('sentence-transformers/paraphrase-multilingual-MiniLM-L12-v2', device='cpu')"
   ],
   "outputs": [
    {
     "name": "stderr",
     "output_type": "stream",
     "text": [
      "/home/yshmgrt/Programming/accurate-text-generation/.venv/lib/python3.12/site-packages/sentence_transformers/cross_encoder/CrossEncoder.py:13: TqdmExperimentalWarning: Using `tqdm.autonotebook.tqdm` in notebook mode. Use `tqdm.tqdm` instead to force console mode (e.g. in jupyter console)\n",
      "  from tqdm.autonotebook import tqdm, trange\n"
     ]
    },
    {
     "data": {
      "text/plain": [
       "modules.json:   0%|          | 0.00/229 [00:00<?, ?B/s]"
      ],
      "application/vnd.jupyter.widget-view+json": {
       "version_major": 2,
       "version_minor": 0,
       "model_id": "55a56700fb2a422c985131b0253dcc74"
      }
     },
     "metadata": {},
     "output_type": "display_data"
    },
    {
     "data": {
      "text/plain": [
       "config_sentence_transformers.json:   0%|          | 0.00/122 [00:00<?, ?B/s]"
      ],
      "application/vnd.jupyter.widget-view+json": {
       "version_major": 2,
       "version_minor": 0,
       "model_id": "0a4aea80d47d4bfa952be2b37124e2bc"
      }
     },
     "metadata": {},
     "output_type": "display_data"
    },
    {
     "data": {
      "text/plain": [
       "README.md:   0%|          | 0.00/4.12k [00:00<?, ?B/s]"
      ],
      "application/vnd.jupyter.widget-view+json": {
       "version_major": 2,
       "version_minor": 0,
       "model_id": "4b3db0596db0434081656068029a21de"
      }
     },
     "metadata": {},
     "output_type": "display_data"
    },
    {
     "data": {
      "text/plain": [
       "sentence_bert_config.json:   0%|          | 0.00/53.0 [00:00<?, ?B/s]"
      ],
      "application/vnd.jupyter.widget-view+json": {
       "version_major": 2,
       "version_minor": 0,
       "model_id": "1a2f6fcd7f404e8697b94554dc3ba74e"
      }
     },
     "metadata": {},
     "output_type": "display_data"
    },
    {
     "data": {
      "text/plain": [
       "config.json:   0%|          | 0.00/645 [00:00<?, ?B/s]"
      ],
      "application/vnd.jupyter.widget-view+json": {
       "version_major": 2,
       "version_minor": 0,
       "model_id": "16679f89eb67479caf7cad42e5ca022f"
      }
     },
     "metadata": {},
     "output_type": "display_data"
    },
    {
     "data": {
      "text/plain": [
       "model.safetensors:   0%|          | 0.00/471M [00:00<?, ?B/s]"
      ],
      "application/vnd.jupyter.widget-view+json": {
       "version_major": 2,
       "version_minor": 0,
       "model_id": "54506f33e4dc4090b1210386f17c1c04"
      }
     },
     "metadata": {},
     "output_type": "display_data"
    },
    {
     "data": {
      "text/plain": [
       "tokenizer_config.json:   0%|          | 0.00/480 [00:00<?, ?B/s]"
      ],
      "application/vnd.jupyter.widget-view+json": {
       "version_major": 2,
       "version_minor": 0,
       "model_id": "ecb646104cfc41b191d30125af68c0a8"
      }
     },
     "metadata": {},
     "output_type": "display_data"
    },
    {
     "data": {
      "text/plain": [
       "tokenizer.json:   0%|          | 0.00/9.08M [00:00<?, ?B/s]"
      ],
      "application/vnd.jupyter.widget-view+json": {
       "version_major": 2,
       "version_minor": 0,
       "model_id": "f7993e1e93284f86bd5d8e69bc31e76c"
      }
     },
     "metadata": {},
     "output_type": "display_data"
    },
    {
     "data": {
      "text/plain": [
       "special_tokens_map.json:   0%|          | 0.00/239 [00:00<?, ?B/s]"
      ],
      "application/vnd.jupyter.widget-view+json": {
       "version_major": 2,
       "version_minor": 0,
       "model_id": "f43780cb6eaa430dad4868f9cc6d9dfd"
      }
     },
     "metadata": {},
     "output_type": "display_data"
    },
    {
     "name": "stderr",
     "output_type": "stream",
     "text": [
      "/home/yshmgrt/Programming/accurate-text-generation/.venv/lib/python3.12/site-packages/transformers/tokenization_utils_base.py:1601: FutureWarning: `clean_up_tokenization_spaces` was not set. It will be set to `True` by default. This behavior will be depracted in transformers v4.45, and will be then set to `False` by default. For more details check this issue: https://github.com/huggingface/transformers/issues/31884\n",
      "  warnings.warn(\n"
     ]
    },
    {
     "data": {
      "text/plain": [
       "1_Pooling/config.json:   0%|          | 0.00/190 [00:00<?, ?B/s]"
      ],
      "application/vnd.jupyter.widget-view+json": {
       "version_major": 2,
       "version_minor": 0,
       "model_id": "3c8a03cf16c046f1bbed99d3d6a3d637"
      }
     },
     "metadata": {},
     "output_type": "display_data"
    },
    {
     "ename": "RuntimeError",
     "evalue": "No CUDA GPUs are available",
     "output_type": "error",
     "traceback": [
      "\u001B[0;31m---------------------------------------------------------------------------\u001B[0m",
      "\u001B[0;31mRuntimeError\u001B[0m                              Traceback (most recent call last)",
      "Cell \u001B[0;32mIn[1], line 3\u001B[0m\n\u001B[1;32m      1\u001B[0m \u001B[38;5;28;01mfrom\u001B[39;00m \u001B[38;5;21;01msentence_transformers\u001B[39;00m \u001B[38;5;28;01mimport\u001B[39;00m SentenceTransformer\n\u001B[0;32m----> 3\u001B[0m embedding_model \u001B[38;5;241m=\u001B[39m \u001B[43mSentenceTransformer\u001B[49m\u001B[43m(\u001B[49m\u001B[38;5;124;43m'\u001B[39;49m\u001B[38;5;124;43msentence-transformers/paraphrase-multilingual-MiniLM-L12-v2\u001B[39;49m\u001B[38;5;124;43m'\u001B[39;49m\u001B[43m,\u001B[49m\u001B[43m \u001B[49m\u001B[43mdevice\u001B[49m\u001B[38;5;241;43m=\u001B[39;49m\u001B[38;5;124;43m'\u001B[39;49m\u001B[38;5;124;43mcuda\u001B[39;49m\u001B[38;5;124;43m'\u001B[39;49m\u001B[43m)\u001B[49m\n\u001B[1;32m      4\u001B[0m \u001B[38;5;66;03m# model = SentenceTransformer('sentence-transformers/paraphrase-multilingual-MiniLM-L12-v2', device='cpu')\u001B[39;00m\n",
      "File \u001B[0;32m~/Programming/accurate-text-generation/.venv/lib/python3.12/site-packages/sentence_transformers/SentenceTransformer.py:345\u001B[0m, in \u001B[0;36mSentenceTransformer.__init__\u001B[0;34m(self, model_name_or_path, modules, device, prompts, default_prompt_name, similarity_fn_name, cache_folder, trust_remote_code, revision, local_files_only, token, use_auth_token, truncate_dim, model_kwargs, tokenizer_kwargs, config_kwargs, model_card_data, backend)\u001B[0m\n\u001B[1;32m    342\u001B[0m \u001B[38;5;28;01mexcept\u001B[39;00m \u001B[38;5;167;01mStopIteration\u001B[39;00m:\n\u001B[1;32m    343\u001B[0m     \u001B[38;5;28;01mpass\u001B[39;00m\n\u001B[0;32m--> 345\u001B[0m \u001B[38;5;28;43mself\u001B[39;49m\u001B[38;5;241;43m.\u001B[39;49m\u001B[43mto\u001B[49m\u001B[43m(\u001B[49m\u001B[43mdevice\u001B[49m\u001B[43m)\u001B[49m\n\u001B[1;32m    346\u001B[0m \u001B[38;5;28mself\u001B[39m\u001B[38;5;241m.\u001B[39mis_hpu_graph_enabled \u001B[38;5;241m=\u001B[39m \u001B[38;5;28;01mFalse\u001B[39;00m\n\u001B[1;32m    348\u001B[0m \u001B[38;5;28;01mif\u001B[39;00m \u001B[38;5;28mself\u001B[39m\u001B[38;5;241m.\u001B[39mdefault_prompt_name \u001B[38;5;129;01mis\u001B[39;00m \u001B[38;5;129;01mnot\u001B[39;00m \u001B[38;5;28;01mNone\u001B[39;00m \u001B[38;5;129;01mand\u001B[39;00m \u001B[38;5;28mself\u001B[39m\u001B[38;5;241m.\u001B[39mdefault_prompt_name \u001B[38;5;129;01mnot\u001B[39;00m \u001B[38;5;129;01min\u001B[39;00m \u001B[38;5;28mself\u001B[39m\u001B[38;5;241m.\u001B[39mprompts:\n",
      "File \u001B[0;32m~/Programming/accurate-text-generation/.venv/lib/python3.12/site-packages/torch/nn/modules/module.py:1174\u001B[0m, in \u001B[0;36mModule.to\u001B[0;34m(self, *args, **kwargs)\u001B[0m\n\u001B[1;32m   1171\u001B[0m         \u001B[38;5;28;01melse\u001B[39;00m:\n\u001B[1;32m   1172\u001B[0m             \u001B[38;5;28;01mraise\u001B[39;00m\n\u001B[0;32m-> 1174\u001B[0m \u001B[38;5;28;01mreturn\u001B[39;00m \u001B[38;5;28;43mself\u001B[39;49m\u001B[38;5;241;43m.\u001B[39;49m\u001B[43m_apply\u001B[49m\u001B[43m(\u001B[49m\u001B[43mconvert\u001B[49m\u001B[43m)\u001B[49m\n",
      "File \u001B[0;32m~/Programming/accurate-text-generation/.venv/lib/python3.12/site-packages/torch/nn/modules/module.py:780\u001B[0m, in \u001B[0;36mModule._apply\u001B[0;34m(self, fn, recurse)\u001B[0m\n\u001B[1;32m    778\u001B[0m \u001B[38;5;28;01mif\u001B[39;00m recurse:\n\u001B[1;32m    779\u001B[0m     \u001B[38;5;28;01mfor\u001B[39;00m module \u001B[38;5;129;01min\u001B[39;00m \u001B[38;5;28mself\u001B[39m\u001B[38;5;241m.\u001B[39mchildren():\n\u001B[0;32m--> 780\u001B[0m         \u001B[43mmodule\u001B[49m\u001B[38;5;241;43m.\u001B[39;49m\u001B[43m_apply\u001B[49m\u001B[43m(\u001B[49m\u001B[43mfn\u001B[49m\u001B[43m)\u001B[49m\n\u001B[1;32m    782\u001B[0m \u001B[38;5;28;01mdef\u001B[39;00m \u001B[38;5;21mcompute_should_use_set_data\u001B[39m(tensor, tensor_applied):\n\u001B[1;32m    783\u001B[0m     \u001B[38;5;28;01mif\u001B[39;00m torch\u001B[38;5;241m.\u001B[39m_has_compatible_shallow_copy_type(tensor, tensor_applied):\n\u001B[1;32m    784\u001B[0m         \u001B[38;5;66;03m# If the new tensor has compatible tensor type as the existing tensor,\u001B[39;00m\n\u001B[1;32m    785\u001B[0m         \u001B[38;5;66;03m# the current behavior is to change the tensor in-place using `.data =`,\u001B[39;00m\n\u001B[0;32m   (...)\u001B[0m\n\u001B[1;32m    790\u001B[0m         \u001B[38;5;66;03m# global flag to let the user control whether they want the future\u001B[39;00m\n\u001B[1;32m    791\u001B[0m         \u001B[38;5;66;03m# behavior of overwriting the existing tensor or not.\u001B[39;00m\n",
      "File \u001B[0;32m~/Programming/accurate-text-generation/.venv/lib/python3.12/site-packages/torch/nn/modules/module.py:780\u001B[0m, in \u001B[0;36mModule._apply\u001B[0;34m(self, fn, recurse)\u001B[0m\n\u001B[1;32m    778\u001B[0m \u001B[38;5;28;01mif\u001B[39;00m recurse:\n\u001B[1;32m    779\u001B[0m     \u001B[38;5;28;01mfor\u001B[39;00m module \u001B[38;5;129;01min\u001B[39;00m \u001B[38;5;28mself\u001B[39m\u001B[38;5;241m.\u001B[39mchildren():\n\u001B[0;32m--> 780\u001B[0m         \u001B[43mmodule\u001B[49m\u001B[38;5;241;43m.\u001B[39;49m\u001B[43m_apply\u001B[49m\u001B[43m(\u001B[49m\u001B[43mfn\u001B[49m\u001B[43m)\u001B[49m\n\u001B[1;32m    782\u001B[0m \u001B[38;5;28;01mdef\u001B[39;00m \u001B[38;5;21mcompute_should_use_set_data\u001B[39m(tensor, tensor_applied):\n\u001B[1;32m    783\u001B[0m     \u001B[38;5;28;01mif\u001B[39;00m torch\u001B[38;5;241m.\u001B[39m_has_compatible_shallow_copy_type(tensor, tensor_applied):\n\u001B[1;32m    784\u001B[0m         \u001B[38;5;66;03m# If the new tensor has compatible tensor type as the existing tensor,\u001B[39;00m\n\u001B[1;32m    785\u001B[0m         \u001B[38;5;66;03m# the current behavior is to change the tensor in-place using `.data =`,\u001B[39;00m\n\u001B[0;32m   (...)\u001B[0m\n\u001B[1;32m    790\u001B[0m         \u001B[38;5;66;03m# global flag to let the user control whether they want the future\u001B[39;00m\n\u001B[1;32m    791\u001B[0m         \u001B[38;5;66;03m# behavior of overwriting the existing tensor or not.\u001B[39;00m\n",
      "    \u001B[0;31m[... skipping similar frames: Module._apply at line 780 (1 times)]\u001B[0m\n",
      "File \u001B[0;32m~/Programming/accurate-text-generation/.venv/lib/python3.12/site-packages/torch/nn/modules/module.py:780\u001B[0m, in \u001B[0;36mModule._apply\u001B[0;34m(self, fn, recurse)\u001B[0m\n\u001B[1;32m    778\u001B[0m \u001B[38;5;28;01mif\u001B[39;00m recurse:\n\u001B[1;32m    779\u001B[0m     \u001B[38;5;28;01mfor\u001B[39;00m module \u001B[38;5;129;01min\u001B[39;00m \u001B[38;5;28mself\u001B[39m\u001B[38;5;241m.\u001B[39mchildren():\n\u001B[0;32m--> 780\u001B[0m         \u001B[43mmodule\u001B[49m\u001B[38;5;241;43m.\u001B[39;49m\u001B[43m_apply\u001B[49m\u001B[43m(\u001B[49m\u001B[43mfn\u001B[49m\u001B[43m)\u001B[49m\n\u001B[1;32m    782\u001B[0m \u001B[38;5;28;01mdef\u001B[39;00m \u001B[38;5;21mcompute_should_use_set_data\u001B[39m(tensor, tensor_applied):\n\u001B[1;32m    783\u001B[0m     \u001B[38;5;28;01mif\u001B[39;00m torch\u001B[38;5;241m.\u001B[39m_has_compatible_shallow_copy_type(tensor, tensor_applied):\n\u001B[1;32m    784\u001B[0m         \u001B[38;5;66;03m# If the new tensor has compatible tensor type as the existing tensor,\u001B[39;00m\n\u001B[1;32m    785\u001B[0m         \u001B[38;5;66;03m# the current behavior is to change the tensor in-place using `.data =`,\u001B[39;00m\n\u001B[0;32m   (...)\u001B[0m\n\u001B[1;32m    790\u001B[0m         \u001B[38;5;66;03m# global flag to let the user control whether they want the future\u001B[39;00m\n\u001B[1;32m    791\u001B[0m         \u001B[38;5;66;03m# behavior of overwriting the existing tensor or not.\u001B[39;00m\n",
      "File \u001B[0;32m~/Programming/accurate-text-generation/.venv/lib/python3.12/site-packages/torch/nn/modules/module.py:805\u001B[0m, in \u001B[0;36mModule._apply\u001B[0;34m(self, fn, recurse)\u001B[0m\n\u001B[1;32m    801\u001B[0m \u001B[38;5;66;03m# Tensors stored in modules are graph leaves, and we don't want to\u001B[39;00m\n\u001B[1;32m    802\u001B[0m \u001B[38;5;66;03m# track autograd history of `param_applied`, so we have to use\u001B[39;00m\n\u001B[1;32m    803\u001B[0m \u001B[38;5;66;03m# `with torch.no_grad():`\u001B[39;00m\n\u001B[1;32m    804\u001B[0m \u001B[38;5;28;01mwith\u001B[39;00m torch\u001B[38;5;241m.\u001B[39mno_grad():\n\u001B[0;32m--> 805\u001B[0m     param_applied \u001B[38;5;241m=\u001B[39m \u001B[43mfn\u001B[49m\u001B[43m(\u001B[49m\u001B[43mparam\u001B[49m\u001B[43m)\u001B[49m\n\u001B[1;32m    806\u001B[0m p_should_use_set_data \u001B[38;5;241m=\u001B[39m compute_should_use_set_data(param, param_applied)\n\u001B[1;32m    808\u001B[0m \u001B[38;5;66;03m# subclasses may have multiple child tensors so we need to use swap_tensors\u001B[39;00m\n",
      "File \u001B[0;32m~/Programming/accurate-text-generation/.venv/lib/python3.12/site-packages/torch/nn/modules/module.py:1160\u001B[0m, in \u001B[0;36mModule.to.<locals>.convert\u001B[0;34m(t)\u001B[0m\n\u001B[1;32m   1153\u001B[0m     \u001B[38;5;28;01mif\u001B[39;00m convert_to_format \u001B[38;5;129;01mis\u001B[39;00m \u001B[38;5;129;01mnot\u001B[39;00m \u001B[38;5;28;01mNone\u001B[39;00m \u001B[38;5;129;01mand\u001B[39;00m t\u001B[38;5;241m.\u001B[39mdim() \u001B[38;5;129;01min\u001B[39;00m (\u001B[38;5;241m4\u001B[39m, \u001B[38;5;241m5\u001B[39m):\n\u001B[1;32m   1154\u001B[0m         \u001B[38;5;28;01mreturn\u001B[39;00m t\u001B[38;5;241m.\u001B[39mto(\n\u001B[1;32m   1155\u001B[0m             device,\n\u001B[1;32m   1156\u001B[0m             dtype \u001B[38;5;28;01mif\u001B[39;00m t\u001B[38;5;241m.\u001B[39mis_floating_point() \u001B[38;5;129;01mor\u001B[39;00m t\u001B[38;5;241m.\u001B[39mis_complex() \u001B[38;5;28;01melse\u001B[39;00m \u001B[38;5;28;01mNone\u001B[39;00m,\n\u001B[1;32m   1157\u001B[0m             non_blocking,\n\u001B[1;32m   1158\u001B[0m             memory_format\u001B[38;5;241m=\u001B[39mconvert_to_format,\n\u001B[1;32m   1159\u001B[0m         )\n\u001B[0;32m-> 1160\u001B[0m     \u001B[38;5;28;01mreturn\u001B[39;00m \u001B[43mt\u001B[49m\u001B[38;5;241;43m.\u001B[39;49m\u001B[43mto\u001B[49m\u001B[43m(\u001B[49m\n\u001B[1;32m   1161\u001B[0m \u001B[43m        \u001B[49m\u001B[43mdevice\u001B[49m\u001B[43m,\u001B[49m\n\u001B[1;32m   1162\u001B[0m \u001B[43m        \u001B[49m\u001B[43mdtype\u001B[49m\u001B[43m \u001B[49m\u001B[38;5;28;43;01mif\u001B[39;49;00m\u001B[43m \u001B[49m\u001B[43mt\u001B[49m\u001B[38;5;241;43m.\u001B[39;49m\u001B[43mis_floating_point\u001B[49m\u001B[43m(\u001B[49m\u001B[43m)\u001B[49m\u001B[43m \u001B[49m\u001B[38;5;129;43;01mor\u001B[39;49;00m\u001B[43m \u001B[49m\u001B[43mt\u001B[49m\u001B[38;5;241;43m.\u001B[39;49m\u001B[43mis_complex\u001B[49m\u001B[43m(\u001B[49m\u001B[43m)\u001B[49m\u001B[43m \u001B[49m\u001B[38;5;28;43;01melse\u001B[39;49;00m\u001B[43m \u001B[49m\u001B[38;5;28;43;01mNone\u001B[39;49;00m\u001B[43m,\u001B[49m\n\u001B[1;32m   1163\u001B[0m \u001B[43m        \u001B[49m\u001B[43mnon_blocking\u001B[49m\u001B[43m,\u001B[49m\n\u001B[1;32m   1164\u001B[0m \u001B[43m    \u001B[49m\u001B[43m)\u001B[49m\n\u001B[1;32m   1165\u001B[0m \u001B[38;5;28;01mexcept\u001B[39;00m \u001B[38;5;167;01mNotImplementedError\u001B[39;00m \u001B[38;5;28;01mas\u001B[39;00m e:\n\u001B[1;32m   1166\u001B[0m     \u001B[38;5;28;01mif\u001B[39;00m \u001B[38;5;28mstr\u001B[39m(e) \u001B[38;5;241m==\u001B[39m \u001B[38;5;124m\"\u001B[39m\u001B[38;5;124mCannot copy out of meta tensor; no data!\u001B[39m\u001B[38;5;124m\"\u001B[39m:\n",
      "File \u001B[0;32m~/Programming/accurate-text-generation/.venv/lib/python3.12/site-packages/torch/cuda/__init__.py:314\u001B[0m, in \u001B[0;36m_lazy_init\u001B[0;34m()\u001B[0m\n\u001B[1;32m    312\u001B[0m \u001B[38;5;28;01mif\u001B[39;00m \u001B[38;5;124m\"\u001B[39m\u001B[38;5;124mCUDA_MODULE_LOADING\u001B[39m\u001B[38;5;124m\"\u001B[39m \u001B[38;5;129;01mnot\u001B[39;00m \u001B[38;5;129;01min\u001B[39;00m os\u001B[38;5;241m.\u001B[39menviron:\n\u001B[1;32m    313\u001B[0m     os\u001B[38;5;241m.\u001B[39menviron[\u001B[38;5;124m\"\u001B[39m\u001B[38;5;124mCUDA_MODULE_LOADING\u001B[39m\u001B[38;5;124m\"\u001B[39m] \u001B[38;5;241m=\u001B[39m \u001B[38;5;124m\"\u001B[39m\u001B[38;5;124mLAZY\u001B[39m\u001B[38;5;124m\"\u001B[39m\n\u001B[0;32m--> 314\u001B[0m \u001B[43mtorch\u001B[49m\u001B[38;5;241;43m.\u001B[39;49m\u001B[43m_C\u001B[49m\u001B[38;5;241;43m.\u001B[39;49m\u001B[43m_cuda_init\u001B[49m\u001B[43m(\u001B[49m\u001B[43m)\u001B[49m\n\u001B[1;32m    315\u001B[0m \u001B[38;5;66;03m# Some of the queued calls may reentrantly call _lazy_init();\u001B[39;00m\n\u001B[1;32m    316\u001B[0m \u001B[38;5;66;03m# we need to just return without initializing in that case.\u001B[39;00m\n\u001B[1;32m    317\u001B[0m \u001B[38;5;66;03m# However, we must not let any *other* threads in!\u001B[39;00m\n\u001B[1;32m    318\u001B[0m _tls\u001B[38;5;241m.\u001B[39mis_initializing \u001B[38;5;241m=\u001B[39m \u001B[38;5;28;01mTrue\u001B[39;00m\n",
      "\u001B[0;31mRuntimeError\u001B[0m: No CUDA GPUs are available"
     ]
    }
   ],
   "execution_count": 1
  },
  {
   "metadata": {
    "ExecuteTime": {
     "end_time": "2024-10-07T16:00:21.253274Z",
     "start_time": "2024-10-07T16:00:21.251760Z"
    }
   },
   "cell_type": "code",
   "source": "embedding_model.similarity_fn_name",
   "id": "6589fa367d174bab",
   "outputs": [],
   "execution_count": 5
  },
  {
   "metadata": {},
   "cell_type": "markdown",
   "source": [
    "## База данных\n",
    "Задача: создать базу данных с текстами и их эмбеддингами"
   ],
   "id": "85d407378ff00ac5"
  },
  {
   "metadata": {
    "ExecuteTime": {
     "end_time": "2024-10-07T16:00:21.307379Z",
     "start_time": "2024-10-07T16:00:21.297906Z"
    }
   },
   "cell_type": "code",
   "source": "from src.embedding_database import EmbeddingDatabase",
   "id": "94658781e094dc9b",
   "outputs": [],
   "execution_count": 6
  },
  {
   "metadata": {
    "ExecuteTime": {
     "end_time": "2024-10-07T16:00:25.934258Z",
     "start_time": "2024-10-07T16:00:21.354445Z"
    }
   },
   "cell_type": "code",
   "source": [
    "\n",
    "with EmbeddingDatabase(sentence_transformer=embedding_model, file='main.db') as db:\n",
    "    db.init_tables()\n",
    "    book_list = books[:10].to_dict(orient='records')\n",
    "    book_list = [Book(**book) for book in book_list]\n",
    "    db.populate_db(book_list)"
   ],
   "id": "6950db1a6c60b810",
   "outputs": [
    {
     "name": "stdout",
     "output_type": "stream",
     "text": [
      "3.46.1\n",
      "Populating database...\n"
     ]
    },
    {
     "name": "stderr",
     "output_type": "stream",
     "text": [
      "  0%|          | 0/10 [00:00<?, ?it/s]"
     ]
    },
    {
     "name": "stdout",
     "output_type": "stream",
     "text": [
      "[]\n"
     ]
    },
    {
     "name": "stderr",
     "output_type": "stream",
     "text": [
      " 10%|█         | 1/10 [00:00<00:05,  1.62it/s]"
     ]
    },
    {
     "name": "stdout",
     "output_type": "stream",
     "text": [
      "[]\n"
     ]
    },
    {
     "name": "stderr",
     "output_type": "stream",
     "text": [
      " 20%|██        | 2/10 [00:01<00:04,  1.78it/s]"
     ]
    },
    {
     "name": "stdout",
     "output_type": "stream",
     "text": [
      "[]\n"
     ]
    },
    {
     "name": "stderr",
     "output_type": "stream",
     "text": [
      " 30%|███       | 3/10 [00:01<00:03,  1.81it/s]"
     ]
    },
    {
     "name": "stdout",
     "output_type": "stream",
     "text": [
      "[]\n"
     ]
    },
    {
     "name": "stderr",
     "output_type": "stream",
     "text": [
      " 40%|████      | 4/10 [00:02<00:03,  1.72it/s]"
     ]
    },
    {
     "name": "stdout",
     "output_type": "stream",
     "text": [
      "[]\n"
     ]
    },
    {
     "name": "stderr",
     "output_type": "stream",
     "text": [
      " 50%|█████     | 5/10 [00:02<00:02,  1.79it/s]"
     ]
    },
    {
     "name": "stdout",
     "output_type": "stream",
     "text": [
      "[]\n"
     ]
    },
    {
     "name": "stderr",
     "output_type": "stream",
     "text": [
      " 60%|██████    | 6/10 [00:03<00:01,  2.08it/s]"
     ]
    },
    {
     "name": "stdout",
     "output_type": "stream",
     "text": [
      "[]\n"
     ]
    },
    {
     "name": "stderr",
     "output_type": "stream",
     "text": [
      " 70%|███████   | 7/10 [00:03<00:01,  2.21it/s]"
     ]
    },
    {
     "name": "stdout",
     "output_type": "stream",
     "text": [
      "[]\n"
     ]
    },
    {
     "name": "stderr",
     "output_type": "stream",
     "text": [
      " 80%|████████  | 8/10 [00:03<00:00,  2.26it/s]"
     ]
    },
    {
     "name": "stdout",
     "output_type": "stream",
     "text": [
      "[]\n"
     ]
    },
    {
     "name": "stderr",
     "output_type": "stream",
     "text": [
      " 90%|█████████ | 9/10 [00:04<00:00,  2.52it/s]"
     ]
    },
    {
     "name": "stdout",
     "output_type": "stream",
     "text": [
      "[]\n"
     ]
    },
    {
     "name": "stderr",
     "output_type": "stream",
     "text": [
      "100%|██████████| 10/10 [00:04<00:00,  2.20it/s]\n"
     ]
    }
   ],
   "execution_count": 7
  },
  {
   "metadata": {
    "ExecuteTime": {
     "end_time": "2024-10-07T15:22:49.824468Z",
     "start_time": "2024-10-07T15:22:49.710694Z"
    }
   },
   "cell_type": "code",
   "source": [
    "with EmbeddingDatabase(sentence_transformer=embedding_model, file='main.db') as db:\n",
    "    print(db.get_similar_blocks(book_id=1, text='И так Гарри Поттер приобрел свою первую волшебную палочку'))"
   ],
   "id": "69e7b1a583da0bca",
   "outputs": [
    {
     "ename": "OperationalError",
     "evalue": "no such table: block",
     "output_type": "error",
     "traceback": [
      "\u001B[0;31m---------------------------------------------------------------------------\u001B[0m",
      "\u001B[0;31mOperationalError\u001B[0m                          Traceback (most recent call last)",
      "Cell \u001B[0;32mIn[8], line 2\u001B[0m\n\u001B[1;32m      1\u001B[0m \u001B[38;5;28;01mwith\u001B[39;00m EmbeddingDatabase(sentence_transformer\u001B[38;5;241m=\u001B[39membedding_model, file\u001B[38;5;241m=\u001B[39m\u001B[38;5;124m'\u001B[39m\u001B[38;5;124mmain.db\u001B[39m\u001B[38;5;124m'\u001B[39m) \u001B[38;5;28;01mas\u001B[39;00m db:\n\u001B[0;32m----> 2\u001B[0m     \u001B[38;5;28mprint\u001B[39m(\u001B[43mdb\u001B[49m\u001B[38;5;241;43m.\u001B[39;49m\u001B[43mget_similar_blocks\u001B[49m\u001B[43m(\u001B[49m\u001B[43mbook_id\u001B[49m\u001B[38;5;241;43m=\u001B[39;49m\u001B[38;5;241;43m1\u001B[39;49m\u001B[43m,\u001B[49m\u001B[43m \u001B[49m\u001B[43mtext\u001B[49m\u001B[38;5;241;43m=\u001B[39;49m\u001B[38;5;124;43m'\u001B[39;49m\u001B[38;5;124;43mИ так Гарри Поттер приобрел свою первую волшебную палочку\u001B[39;49m\u001B[38;5;124;43m'\u001B[39;49m\u001B[43m)\u001B[49m)\n",
      "File \u001B[0;32m~/Programming/the-dialogue-system/src/embedding_database.py:95\u001B[0m, in \u001B[0;36mEmbeddingDatabase.get_similar_blocks\u001B[0;34m(self, book_id, text, n)\u001B[0m\n\u001B[1;32m     93\u001B[0m cursor: sqlite3\u001B[38;5;241m.\u001B[39mCursor \u001B[38;5;241m=\u001B[39m \u001B[38;5;28mself\u001B[39m\u001B[38;5;241m.\u001B[39m__db\u001B[38;5;241m.\u001B[39mcursor()\n\u001B[1;32m     94\u001B[0m vector: np\u001B[38;5;241m.\u001B[39mndarray \u001B[38;5;241m=\u001B[39m cast(np\u001B[38;5;241m.\u001B[39mndarray, \u001B[38;5;28mself\u001B[39m\u001B[38;5;241m.\u001B[39m__sentence_transformer\u001B[38;5;241m.\u001B[39mencode(text))\n\u001B[0;32m---> 95\u001B[0m \u001B[43mcursor\u001B[49m\u001B[38;5;241;43m.\u001B[39;49m\u001B[43mexecute\u001B[49m\u001B[43m(\u001B[49m\u001B[38;5;124;43mf\u001B[39;49m\u001B[38;5;124;43m\"\"\"\u001B[39;49m\n\u001B[1;32m     96\u001B[0m \u001B[38;5;124;43mWITH best AS (\u001B[39;49m\n\u001B[1;32m     97\u001B[0m \u001B[38;5;124;43m    SELECT id, distance\u001B[39;49m\n\u001B[1;32m     98\u001B[0m \u001B[38;5;124;43m    FROM embedding\u001B[39;49m\n\u001B[1;32m     99\u001B[0m \u001B[38;5;124;43m    WHERE id in (\u001B[39;49m\n\u001B[1;32m    100\u001B[0m \u001B[38;5;124;43m        SELECT id\u001B[39;49m\n\u001B[1;32m    101\u001B[0m \u001B[38;5;124;43m        FROM block\u001B[39;49m\n\u001B[1;32m    102\u001B[0m \u001B[38;5;124;43m        WHERE book_id = :book_id\u001B[39;49m\n\u001B[1;32m    103\u001B[0m \u001B[38;5;124;43m    ) and embedding match \u001B[39;49m\u001B[38;5;124;43m'\u001B[39;49m\u001B[38;5;124;43m:vector\u001B[39;49m\u001B[38;5;124;43m'\u001B[39;49m\n\u001B[1;32m    104\u001B[0m \u001B[38;5;124;43m    ORDER BY distance\u001B[39;49m\n\u001B[1;32m    105\u001B[0m \u001B[38;5;124;43m    LIMIT :n\u001B[39;49m\n\u001B[1;32m    106\u001B[0m \u001B[38;5;124;43m)\u001B[39;49m\n\u001B[1;32m    107\u001B[0m \u001B[38;5;124;43mSELECT book_id, position, text, best.distance\u001B[39;49m\n\u001B[1;32m    108\u001B[0m \u001B[38;5;124;43mFROM block JOIN best ON best.id = block.id\u001B[39;49m\n\u001B[1;32m    109\u001B[0m \u001B[38;5;124;43mORDER BY best.distance\u001B[39;49m\n\u001B[1;32m    110\u001B[0m \u001B[38;5;124;43m\u001B[39;49m\u001B[38;5;124;43m\"\"\"\u001B[39;49m\u001B[43m,\u001B[49m\u001B[43m \u001B[49m\u001B[43m{\u001B[49m\u001B[38;5;124;43m'\u001B[39;49m\u001B[38;5;124;43mbook_id\u001B[39;49m\u001B[38;5;124;43m'\u001B[39;49m\u001B[43m:\u001B[49m\u001B[43m \u001B[49m\u001B[43mbook_id\u001B[49m\u001B[43m,\u001B[49m\u001B[43m \u001B[49m\u001B[38;5;124;43m'\u001B[39;49m\u001B[38;5;124;43mvector\u001B[39;49m\u001B[38;5;124;43m'\u001B[39;49m\u001B[43m:\u001B[49m\u001B[43m \u001B[49m\u001B[43mvector\u001B[49m\u001B[38;5;241;43m.\u001B[39;49m\u001B[43mastype\u001B[49m\u001B[43m(\u001B[49m\u001B[43mnp\u001B[49m\u001B[38;5;241;43m.\u001B[39;49m\u001B[43mfloat32\u001B[49m\u001B[43m)\u001B[49m\u001B[43m,\u001B[49m\u001B[43m \u001B[49m\u001B[38;5;124;43m'\u001B[39;49m\u001B[38;5;124;43mn\u001B[39;49m\u001B[38;5;124;43m'\u001B[39;49m\u001B[43m:\u001B[49m\u001B[43m \u001B[49m\u001B[43mn\u001B[49m\u001B[43m}\u001B[49m\u001B[43m)\u001B[49m\n\u001B[1;32m    111\u001B[0m \u001B[38;5;28;01mreturn\u001B[39;00m [Block(book_id\u001B[38;5;241m=\u001B[39mrow[\u001B[38;5;241m0\u001B[39m], position\u001B[38;5;241m=\u001B[39mrow[\u001B[38;5;241m1\u001B[39m], text\u001B[38;5;241m=\u001B[39mrow[\u001B[38;5;241m2\u001B[39m] \u001B[38;5;241m+\u001B[39m \u001B[38;5;124m'\u001B[39m\u001B[38;5;124m \u001B[39m\u001B[38;5;124m'\u001B[39m \u001B[38;5;241m+\u001B[39m \u001B[38;5;28mstr\u001B[39m(row[\u001B[38;5;241m3\u001B[39m])) \u001B[38;5;28;01mfor\u001B[39;00m row \u001B[38;5;129;01min\u001B[39;00m cursor\u001B[38;5;241m.\u001B[39mfetchall()]\n",
      "\u001B[0;31mOperationalError\u001B[0m: no such table: block"
     ]
    }
   ],
   "execution_count": 8
  },
  {
   "metadata": {},
   "cell_type": "markdown",
   "source": [
    "## Ранжирование блоков\n",
    "Задача: отранжировать блоки по значимости с учетом их схожести с заданным текстом"
   ],
   "id": "27a6b65da12e5a2"
  },
  {
   "metadata": {
    "ExecuteTime": {
     "end_time": "2024-10-06T14:28:32.630629Z",
     "start_time": "2024-10-06T14:28:32.628155Z"
    }
   },
   "cell_type": "code",
   "source": [
    "from src.ranking import Ranker, TextRank\n",
    "\n",
    "ranker: Ranker = TextRank(similarity=embedding_model.similarity)"
   ],
   "id": "81683c4fc628a60e",
   "outputs": [],
   "execution_count": 7
  },
  {
   "cell_type": "markdown",
   "id": "4521b709-160e-4684-9889-61244c5d0f24",
   "metadata": {},
   "source": [
    "## Все вместе\n"
   ]
  },
  {
   "metadata": {
    "ExecuteTime": {
     "end_time": "2024-10-06T14:29:22.179484Z",
     "start_time": "2024-10-06T14:29:22.112339Z"
    }
   },
   "cell_type": "code",
   "source": [
    "with EmbeddingDatabase(sentence_transformer=embedding_model) as db:\n",
    "    bias = \"И так Гарри Поттер приобрел свою первую волшебную палочку\"\n",
    "    book = db.get_book_by_title(\"Лавина\")\n",
    "    print(book)\n",
    "    blocks = db.get_blocks_with_embedding_by_book(book[0].id)\n",
    "    bias_embedding = embedding_model.encode(bias).astype(np.float32)\n",
    "    print(ranker.rank(blocks, bias_block=BlockWithEmbedding(Block(0, 0, bias), bias_embedding)))"
   ],
   "id": "7cec7a321ad82b95",
   "outputs": [
    {
     "name": "stdout",
     "output_type": "stream",
     "text": [
      "[Book(id=8, author='Нил Стивенсон', series='', title='Лавина', path='data/Нил Стивенсон/Лавина.txt'), Book(id=18, author='Нил Стивенсон', series='', title='Лавина', path='data/Нил Стивенсон/Лавина.txt')]\n"
     ]
    },
    {
     "ename": "TypeError",
     "evalue": "new(): invalid data type 'bytes'",
     "output_type": "error",
     "traceback": [
      "\u001B[0;31m---------------------------------------------------------------------------\u001B[0m",
      "\u001B[0;31mTypeError\u001B[0m                                 Traceback (most recent call last)",
      "Cell \u001B[0;32mIn[9], line 7\u001B[0m\n\u001B[1;32m      5\u001B[0m blocks \u001B[38;5;241m=\u001B[39m db\u001B[38;5;241m.\u001B[39mget_blocks_with_embedding_by_book(book[\u001B[38;5;241m0\u001B[39m]\u001B[38;5;241m.\u001B[39mid)\n\u001B[1;32m      6\u001B[0m bias_embedding \u001B[38;5;241m=\u001B[39m model\u001B[38;5;241m.\u001B[39mencode(bias)\u001B[38;5;241m.\u001B[39mastype(np\u001B[38;5;241m.\u001B[39mfloat32)\n\u001B[0;32m----> 7\u001B[0m \u001B[38;5;28mprint\u001B[39m(\u001B[43mranker\u001B[49m\u001B[38;5;241;43m.\u001B[39;49m\u001B[43mrank\u001B[49m\u001B[43m(\u001B[49m\u001B[43mblocks\u001B[49m\u001B[43m,\u001B[49m\u001B[43m \u001B[49m\u001B[43mbias_block\u001B[49m\u001B[38;5;241;43m=\u001B[39;49m\u001B[43mBlockWithEmbedding\u001B[49m\u001B[43m(\u001B[49m\u001B[43mBlock\u001B[49m\u001B[43m(\u001B[49m\u001B[38;5;241;43m0\u001B[39;49m\u001B[43m,\u001B[49m\u001B[43m \u001B[49m\u001B[38;5;241;43m0\u001B[39;49m\u001B[43m,\u001B[49m\u001B[43m \u001B[49m\u001B[43mbias\u001B[49m\u001B[43m)\u001B[49m\u001B[43m,\u001B[49m\u001B[43m \u001B[49m\u001B[43mbias_embedding\u001B[49m\u001B[43m)\u001B[49m\u001B[43m)\u001B[49m)\n",
      "File \u001B[0;32m~/Programming/the-dialogue-system/textrank.py:32\u001B[0m, in \u001B[0;36mTextRank.rank\u001B[0;34m(self, blocks, bias_block)\u001B[0m\n\u001B[1;32m     30\u001B[0m n \u001B[38;5;241m=\u001B[39m \u001B[38;5;28mlen\u001B[39m(blocks)\n\u001B[1;32m     31\u001B[0m btr \u001B[38;5;241m=\u001B[39m np\u001B[38;5;241m.\u001B[39mtranspose(np\u001B[38;5;241m.\u001B[39mones((n,)) \u001B[38;5;241m/\u001B[39m n)\n\u001B[0;32m---> 32\u001B[0m wx \u001B[38;5;241m=\u001B[39m \u001B[38;5;28;43mself\u001B[39;49m\u001B[38;5;241;43m.\u001B[39;49m\u001B[43m__calculate_wx_matrix\u001B[49m\u001B[43m(\u001B[49m\u001B[43mblocks\u001B[49m\u001B[43m)\u001B[49m\n\u001B[1;32m     33\u001B[0m bias \u001B[38;5;241m=\u001B[39m np\u001B[38;5;241m.\u001B[39mtranspose(np\u001B[38;5;241m.\u001B[39mones((n,)))\n\u001B[1;32m     34\u001B[0m \u001B[38;5;28;01mif\u001B[39;00m bias_block \u001B[38;5;129;01mis\u001B[39;00m \u001B[38;5;129;01mnot\u001B[39;00m \u001B[38;5;28;01mNone\u001B[39;00m:\n",
      "File \u001B[0;32m~/Programming/the-dialogue-system/textrank.py:22\u001B[0m, in \u001B[0;36mTextRank.__calculate_wx_matrix\u001B[0;34m(self, blocks)\u001B[0m\n\u001B[1;32m     20\u001B[0m \u001B[38;5;28;01mdef\u001B[39;00m \u001B[38;5;21m__calculate_wx_matrix\u001B[39m(\u001B[38;5;28mself\u001B[39m, blocks: \u001B[38;5;28mlist\u001B[39m[BlockWithEmbedding]) \u001B[38;5;241m-\u001B[39m\u001B[38;5;241m>\u001B[39m np\u001B[38;5;241m.\u001B[39mndarray:\n\u001B[1;32m     21\u001B[0m     n \u001B[38;5;241m=\u001B[39m \u001B[38;5;28mlen\u001B[39m(blocks)\n\u001B[0;32m---> 22\u001B[0m     weights \u001B[38;5;241m=\u001B[39m np\u001B[38;5;241m.\u001B[39marray([[\u001B[38;5;28;43mself\u001B[39;49m\u001B[38;5;241;43m.\u001B[39;49m\u001B[43m__similarity\u001B[49m\u001B[43m(\u001B[49m\u001B[43ma\u001B[49m\u001B[38;5;241;43m.\u001B[39;49m\u001B[43membedding\u001B[49m\u001B[43m,\u001B[49m\u001B[43m \u001B[49m\u001B[43mb\u001B[49m\u001B[38;5;241;43m.\u001B[39;49m\u001B[43membedding\u001B[49m\u001B[43m)\u001B[49m \u001B[38;5;28;01mfor\u001B[39;00m a \u001B[38;5;129;01min\u001B[39;00m blocks] \u001B[38;5;28;01mfor\u001B[39;00m b \u001B[38;5;129;01min\u001B[39;00m blocks])\n\u001B[1;32m     23\u001B[0m     weights_sums \u001B[38;5;241m=\u001B[39m [np\u001B[38;5;241m.\u001B[39msum(row) \u001B[38;5;28;01mfor\u001B[39;00m row \u001B[38;5;129;01min\u001B[39;00m weights]\n\u001B[1;32m     24\u001B[0m     wx \u001B[38;5;241m=\u001B[39m np\u001B[38;5;241m.\u001B[39marray(\n\u001B[1;32m     25\u001B[0m         [[weights[j][i] \u001B[38;5;241m/\u001B[39m weights_sums[j] \u001B[38;5;28;01mfor\u001B[39;00m j \u001B[38;5;129;01min\u001B[39;00m \u001B[38;5;28mrange\u001B[39m(n)] \u001B[38;5;28;01mfor\u001B[39;00m i \u001B[38;5;129;01min\u001B[39;00m \u001B[38;5;28mrange\u001B[39m(n)]\n\u001B[1;32m     26\u001B[0m     )\n",
      "File \u001B[0;32m~/Programming/the-dialogue-system/.venv/lib/python3.12/site-packages/sentence_transformers/util.py:103\u001B[0m, in \u001B[0;36mcos_sim\u001B[0;34m(a, b)\u001B[0m\n\u001B[1;32m     92\u001B[0m \u001B[38;5;28;01mdef\u001B[39;00m \u001B[38;5;21mcos_sim\u001B[39m(a: \u001B[38;5;28mlist\u001B[39m \u001B[38;5;241m|\u001B[39m np\u001B[38;5;241m.\u001B[39mndarray \u001B[38;5;241m|\u001B[39m Tensor, b: \u001B[38;5;28mlist\u001B[39m \u001B[38;5;241m|\u001B[39m np\u001B[38;5;241m.\u001B[39mndarray \u001B[38;5;241m|\u001B[39m Tensor) \u001B[38;5;241m-\u001B[39m\u001B[38;5;241m>\u001B[39m Tensor:\n\u001B[1;32m     93\u001B[0m \u001B[38;5;250m    \u001B[39m\u001B[38;5;124;03m\"\"\"\u001B[39;00m\n\u001B[1;32m     94\u001B[0m \u001B[38;5;124;03m    Computes the cosine similarity between two tensors.\u001B[39;00m\n\u001B[1;32m     95\u001B[0m \n\u001B[0;32m   (...)\u001B[0m\n\u001B[1;32m    101\u001B[0m \u001B[38;5;124;03m        Tensor: Matrix with res[i][j] = cos_sim(a[i], b[j])\u001B[39;00m\n\u001B[1;32m    102\u001B[0m \u001B[38;5;124;03m    \"\"\"\u001B[39;00m\n\u001B[0;32m--> 103\u001B[0m     a \u001B[38;5;241m=\u001B[39m \u001B[43m_convert_to_batch_tensor\u001B[49m\u001B[43m(\u001B[49m\u001B[43ma\u001B[49m\u001B[43m)\u001B[49m\n\u001B[1;32m    104\u001B[0m     b \u001B[38;5;241m=\u001B[39m _convert_to_batch_tensor(b)\n\u001B[1;32m    106\u001B[0m     a_norm \u001B[38;5;241m=\u001B[39m normalize_embeddings(a)\n",
      "File \u001B[0;32m~/Programming/the-dialogue-system/.venv/lib/python3.12/site-packages/sentence_transformers/util.py:73\u001B[0m, in \u001B[0;36m_convert_to_batch_tensor\u001B[0;34m(a)\u001B[0m\n\u001B[1;32m     63\u001B[0m \u001B[38;5;28;01mdef\u001B[39;00m \u001B[38;5;21m_convert_to_batch_tensor\u001B[39m(a: \u001B[38;5;28mlist\u001B[39m \u001B[38;5;241m|\u001B[39m np\u001B[38;5;241m.\u001B[39mndarray \u001B[38;5;241m|\u001B[39m Tensor) \u001B[38;5;241m-\u001B[39m\u001B[38;5;241m>\u001B[39m Tensor:\n\u001B[1;32m     64\u001B[0m \u001B[38;5;250m    \u001B[39m\u001B[38;5;124;03m\"\"\"\u001B[39;00m\n\u001B[1;32m     65\u001B[0m \u001B[38;5;124;03m    Converts the input data to a tensor with a batch dimension.\u001B[39;00m\n\u001B[1;32m     66\u001B[0m \n\u001B[0;32m   (...)\u001B[0m\n\u001B[1;32m     71\u001B[0m \u001B[38;5;124;03m        Tensor: The converted tensor with a batch dimension.\u001B[39;00m\n\u001B[1;32m     72\u001B[0m \u001B[38;5;124;03m    \"\"\"\u001B[39;00m\n\u001B[0;32m---> 73\u001B[0m     a \u001B[38;5;241m=\u001B[39m \u001B[43m_convert_to_tensor\u001B[49m\u001B[43m(\u001B[49m\u001B[43ma\u001B[49m\u001B[43m)\u001B[49m\n\u001B[1;32m     74\u001B[0m     a \u001B[38;5;241m=\u001B[39m _convert_to_batch(a)\n\u001B[1;32m     75\u001B[0m     \u001B[38;5;28;01mreturn\u001B[39;00m a\n",
      "File \u001B[0;32m~/Programming/the-dialogue-system/.venv/lib/python3.12/site-packages/sentence_transformers/util.py:44\u001B[0m, in \u001B[0;36m_convert_to_tensor\u001B[0;34m(a)\u001B[0m\n\u001B[1;32m     34\u001B[0m \u001B[38;5;250m\u001B[39m\u001B[38;5;124;03m\"\"\"\u001B[39;00m\n\u001B[1;32m     35\u001B[0m \u001B[38;5;124;03mConverts the input `a` to a PyTorch tensor if it is not already a tensor.\u001B[39;00m\n\u001B[1;32m     36\u001B[0m \n\u001B[0;32m   (...)\u001B[0m\n\u001B[1;32m     41\u001B[0m \u001B[38;5;124;03m    Tensor: The converted tensor.\u001B[39;00m\n\u001B[1;32m     42\u001B[0m \u001B[38;5;124;03m\"\"\"\u001B[39;00m\n\u001B[1;32m     43\u001B[0m \u001B[38;5;28;01mif\u001B[39;00m \u001B[38;5;129;01mnot\u001B[39;00m \u001B[38;5;28misinstance\u001B[39m(a, Tensor):\n\u001B[0;32m---> 44\u001B[0m     a \u001B[38;5;241m=\u001B[39m \u001B[43mtorch\u001B[49m\u001B[38;5;241;43m.\u001B[39;49m\u001B[43mtensor\u001B[49m\u001B[43m(\u001B[49m\u001B[43ma\u001B[49m\u001B[43m)\u001B[49m\n\u001B[1;32m     45\u001B[0m \u001B[38;5;28;01mreturn\u001B[39;00m a\n",
      "\u001B[0;31mTypeError\u001B[0m: new(): invalid data type 'bytes'"
     ]
    }
   ],
   "execution_count": 9
  },
  {
   "metadata": {
    "ExecuteTime": {
     "end_time": "2024-10-07T15:10:02.022606Z",
     "start_time": "2024-10-07T15:09:57.770646Z"
    }
   },
   "cell_type": "code",
   "source": [
    "with EmbeddingDatabase(sentence_transformer=embedding_model, file='full.db') as db:\n",
    "    bias = \"После долгой битвы с Волан-де-Мортом Гарри попал в лазарет и...\"\n",
    "    book = db.get_book_by_title(\"1. Гарри Поттер и Филосовский Камень\")\n",
    "    blocks = db.get_similar_blocks(book[0].id, bias, n=10)\n",
    "    print(blocks)"
   ],
   "id": "55ecfd377cb5a804",
   "outputs": [
    {
     "name": "stdout",
     "output_type": "stream",
     "text": [
      "[Block(book_id=4021, position=139, text='- Дай сюда! - крикнул ему Гарри. - Или я собью тебя с метлы!\\n- Да ну? - издевательски переспросил Малфой, однако, несмотря на тон, на лице его появилась озабоченность.\\nГарри откуда-то знал, что ему надо делать. Он нагнулся вперед и крепко ухватился за метлу обеими руками, и она рванулась на Малфоя, как вылетевший из пращи камень. Малфой едва успел уклониться. А Гарри, проскочив мимо, резко развернулся и выровнял метлу. Снизу раздались аплодисменты.\\n- Что, Малфой, заскучал? - громко крикнул Гарри. - Ты сейчас один, Крэбба и Гойла рядом нет, и никто тебе не поможет.\\nКажется, Малфоя осенила та же мысль.\\n- Тогда поймай, если сможешь! - заорал он и, метнув стеклянный шар высоко в небо, рванулся вниз, к земле.\\nГарри видел, словно в замедленной съемке, как шар поднимается вверх, на мгновение застывает в воздухе, а потом начинает падать. Он нагнулся вперед и направил рукоятку метлы вниз, а в следующую секунду вошел в почти отвесное пике. Скорость все увеличивалась, в ушах свистел ветер, заглушая испуганные вопли стоявших внизу. Гарри вытянул руку, не снижая скорости, и, когда до земли оставалось не более полуметра, поймал шар - как раз вовремя, чтобы успеть выровнять метлу. И мягко скатился на траву, сжимая шар в руке.\\n- ГАРРИ ПОТТЕР!\\nСердце его рухнуло в пятки быстрее, чем он пикировал к земле. К нему бежала профессор МакГонагалл. Гарри поднялся на ноги, дрожа от предчувствия того, что его ожидало.\\n- Никогда никогда за все то время, что я работаю в Хогвартсе\\nПрофессор МакГонагалл осеклась, от волнения ей не хватило воздуха, но очки ее яростно посверкивали на солнце.\\n- Как вы могли Вы чуть не сломали себе шею\\n- Это не его вина, профессор\\n- Я вас не спрашивала, мисс Патил\\n- Но Малфой\\n- Достаточно, мистер Уизли. Поттер, идите за мной, немедленно. 0.21289917826652527'), Block(book_id=4021, position=195, text='На следующий день Гарри и Рон неплохо повеселились, устроив на улице яростную перестрелку снежками. А затем, насквозь промокшие, замерзшие, с трудом переводя дыхание, они вернулись к камину в гостиной. Там Гарри опробовал свои новые шахматные фигурки и потерпел впечатляющее поражение от Рона. Гарри сказал себе, что, если бы не Перси, без устали засыпавший его ценными советами, поражение было бы не столь быстрым и позорным.\\nПосле чая с бутербродами с индейкой, сдобными булочками, бисквитами и рождественским пирогом Гарри и Рон почувствовали себя настолько сытыми и сонными, что у них просто не было ни сил, ни желания заниматься чем-либо перед сном. Поэтому они просто сидели и смотрели, как Перси гоняется по комнате за близнецами, отобравшими у него значок старосты.\\nЭто было лучшее Рождество в жизни Гарри. И все же целый день его не покидало ощущение, что он забыл о чем-то важном. И только оказавшись в постели, он понял, что именно его беспокоило: мантия-невидимка и тот, кто ее прислал.\\nРон до отвала наелся индейкой и пирогом, а потому ничто загадочное и мистическое его не волновало. И как только его голова коснулась подушки, он тотчас заснул. А Гарри задумчиво вытащил из-под одеяла присланную ему мантию.\\nЗначит, она принадлежала его отцу - его отцу. Он ощущал, как мантия течет сквозь его пальцы. Она была нежнее шелка, легче воздуха. \"Используй ее с умом\", - написал приславший ее.\\nЕму просто необходимо было испытать мантию прямо сейчас. Гарри накинул ее на плечи и, опустив глаза, не увидел ничего, кроме теней и лунного света. Ощущение было весьма странным.\\n\"Используй ее с умом\".\\nГарри вдруг почувствовал, что сонливость как рукой сняло. В этой мантии он мог обойти всю школу, заглянуть в любое помещение. О каком сне могла идти речь, когда его переполняло возбуждение? Ведь в этой мантии он мог пойти куда угодно, и ему не страшен был никакой Филч. 0.22114640474319458'), Block(book_id=4021, position=197, text='Пора было приступать к делу. Гарри осторожно опустил лампу на пол и оглядел нижнюю полку в поисках книги, которая привлекла бы его внимание своим необычным видом. Взгляд его упал на большой черный с серебром фолиант. Гарри с трудом вытащил тяжеленную книгу и положил ее на колено.\\nСтоило ему раскрыть фолиант, как тишину прорезал душераздирающий крик, от которого кровь стыла в жилах. Это кричала книга! Гарри поспешно захлопнул ее, но крик продолжался - высокий, непрекращающийся, разрывающий барабанные перепонки. Гарри попятился назад и сбил лампу, которая тут же погасла. Он запаниковал, и тут послышались шаги - кто-то бежал по коридору по направлению к библиотеке. Второпях засунув книгу на место, Гарри рванул к выходу. В дверях он чуть не столкнулся с Филчем. Выцветшие глаза Филча, вылезшие из орбит, смотрели сквозь него, и Гарри, поднырнув под его руку, выскользнул в коридор. В ушах его все еще стояли издаваемые книгой вопли.\\nПрошло какое-то время, прежде чем Гарри остановился. И, переведя дыхание, обнаружил, что стоит перед выставленными на высоком постаменте рыцарскими доспехами. Он так стремился убежать подальше от библиотеки, что не обращал внимания на то, куда именно бежит. И сейчас он не мог понять, где находится, - возможно, потому, что вокруг стояла кромешная тьма. Впрочем, Гарри тут же вспомнил, что похожий рыцарь в латах стоял неподалеку от кухни, но кухня, по идее, была пятью этажами выше.\\n- Вы сказали, профессор, что, если кто-то будет бродить по школе среди ночи, я должен прийти прямо к вам. Так вот, кто-то был в библиотеке. В Особой секции.\\nГарри почувствовал, как кровь отхлынула от его лица. Он так долго бежал сам не зная куда, но Филч оказался здесь практически одновременно с ним - потому что это именно его голос сейчас слышал Гарри. Не успел Гарри сообразить, что Филчу наверняка известен более короткий путь, как буквально оцепенел от ужаса. Голос, ответивший Филчу, принадлежал профессору Снеггу. 0.23670095205307007'), Block(book_id=4021, position=218, text='- Гарри, ты где был? - завизжала Гермиона, вместе с Роном поджидавшая его у входа в замок.\\n- Победа! Ты выиграл, мы выиграли! - завопил Рон, хлопая Гарри по спине. - Я подбил Малфою глаз. А Невилл в одиночку кинулся на Крэбба и Гойла, представляешь?! Правда, сейчас он в больнице, но мадам Помфри говорит, что с ним все в порядке и что он все время твердит, что еще покажет Малфою и его друзьям. Все наши сейчас в башне, ждут тебя, чтобы начать праздник. Фред и Джордж пробрались на кухню и утащили несколько тортов и кучу всякой еды.\\n- Забудь об этом, - почти беззвучно прошептал Гарри. - Давайте найдем пустую комнату, мне надо кое-что вам рассказать\\nОн завел их в одну из комнат и, убедившись, что там нет Пивза, плотно закрыл дверь и начал свой рассказ.\\n- Так что мы не ошиблись, решив, что речь идет о философском камне, - спустя какое-то время подытожил он. - А теперь Снегг пытается заставить Квиррелла помочь ему завладеть камнем. Он спрашивал Квиррелла, знает ли тот, как пройти мимо Пушка. И еще он сказал Квирреллу что-то про его фокусы. Я думаю, что камень охраняет не только Пушок, но и самые разные заклинания. Возможно, Квиррелл наложил несколько своих заклятий против Темных сил, и Снеггу надо узнать, как развеять эти чары\\n- То есть ты хочешь сказать, что камень будет в безопасности до тех пор, пока Квиррелл не сломается под напором Снегга? - встревоженно спросила Гермиона.\\n- Тогда максимум через неделю камень исчезнет, - мрачно заключил Рон.\\nГлава 14\\nДРАКОН ПО ИМЕНИ НОРБЕРТ\\nОднако, судя по всему, Квиррелл оказался храбрее, чем они думали. Шли недели, профессор становился все бледнее и тоньше, но было непохоже, чтобы он сломался. 0.2412017285823822'), Block(book_id=4021, position=185, text='Произнося эти слова, Малфой смотрел на Гарри. Крэбб и Гойл громко захихикали. Гарри, отмеривавший на своих крошечных и необычайно точных весах нужное количество порошка - в тот раз это был толченый позвоночник морского льва, - сделал вид, что ничего не слышит. После памятного матча, в котором Гриффиндор победил благодаря Гарри, Малфой стал еще невыносимее. Уязвленный поражением своей команды, он пытался всех рассмешить придуманной им шуткой. Она заключалась в том, что в следующей игре вместо Гарри на поле выйдет древесная лягушка, у нее рот шире, чем у Поттера, и потому она будет идеальным ловцом.\\nОднако Малфой быстро осознал, что его шутка никого не смешит, - возможно, Гарри поймал мяч очень своеобразным способом, но тем не менее он его поймал. И, более того, всех поразило, что ему удалось удержаться на взбесившейся метле. Малфой, еще больше разозлившись и сгорая от зависти, вернулся к проверенной тактике и продолжил поддевать Гарри, напоминая ему и окружающим, что у него нет нормальной семьи.\\nГарри действительно не собирался возвращаться на Тисовую улицу на рождественские каникулы. Неделю назад профессор МакГонагалл обошла все курсы, составляя список учеников, которые останутся на каникулы в школе, и Гарри тут же попросил внести его в этот список. При этом он совершенно не собирался себя жалеть - совсем наоборот, он не сомневался, что его ждет лучшее Рождество в его жизни. Тем более что Рон с братьями тоже собирались остаться в Хогвартсе - их родители отправлялись в Румынию, чтобы проведать своего второго сына Чарли.\\nКогда по окончании урока они вышли из подземелья, то обнаружили, что путь им преградила неизвестно откуда взявшаяся в коридоре огромная пихта. Однако показавшиеся из-за ствола две гигантские ступни и громкое пыхтение подсказали им, что пихту принес сюда Хагрид. 0.24182374775409698'), Block(book_id=4021, position=269, text='Они поспешно приземлились, и Гарри метнулся к двери, чувствуя, как ключ пытается вырваться из его руки. Он с силой вонзил ключ в замок, повернул его и услышал щелчок В этот момент ключ вырвался из замочной скважины и тяжело взмыл вверх. Вид у него был очень помятый и потрепанный.\\n- Готовы? - спросил Гарри, держась за дверную ручку. Рон и Гермиона кивнули, и он потянул дверь на себя.\\nВ следующем зале было настолько темно, что вообще ничего не было видно. Однако стоило им сделать несколько шагов, как комнату внезапно залил яркий свет.\\nВсе трое от изумления вытаращили глаза. Они стояли на краю огромной шахматной доски, прямо за черными каменными фигурами, которые были выше их троих, даже долговязого Рона. На другой стороне доски стояли белые фигуры. Гарри, Рон и Гермиона поежились - у белых фигур, в отличие от черных, отсутствовали лица.\\n- И что нам теперь делать? - прошептал Гарри.\\n- По-моему, ответ вполне очевиден, - заметил Рон. - Мы должны выиграть, чтобы оказаться на другой стороне зала.\\nТам, за белыми фигурами, виднелась еще одна дверь.\\n- И как же нам выиграть? - нервно спросила Гермиона.\\n- Я думаю, - выговорил Рон после непродолжительного раздумья, - мы должны стать фигурами.\\nОн смело шагнул вперед и, подойдя к черному всаднику, игравшему роль шахматного коня, коснулся его лошади. В одно мгновение каменная фигура ожила Лошадь стала рыть копытами землю, а всадник повернул голову в шлеме и посмотрел на Рона сверху вниз.\\n- Нам э нам надо присоединиться к вам, чтобы перебраться на ту сторону? - запинаясь, спросил Рон.\\nРыцарь кивнул. Рон повернулся к Гарри и Гермионе.\\n- Надо подумать, - прошептал он. - Полагаю, нам следует занять места трех черных фигур\\nГарри и Гермиона молча ждали, пока Рон закончит свои размышления. 0.2435465008020401'), Block(book_id=4021, position=281, text='Квиррелл кинулся на Гарри и сбил его с ног. Гарри не успел опомниться, как Квиррелл уже оказался на нем Руки просрессора держали его за горло. Боль в голове была такой сильной, что Гарри почти ослеп. Тем не менее он отчетливо слышал, как Квиррелл завыл от боли.\\n- Повелитель, я не могу держать его - мои руки, мои руки!\\nКвиррелл выпустил шею Гарри и с ужасом уставился на свои ладони. Гарри, к которому начало возвращаться зрение, заметил, что они покраснели и выглядят сильно обожженными. Казалось, что с них слезла кожа.\\n- Тогда убей его, глупец, и покончим с этим! - хрипло выкрикнул Волан-де-Морт.\\nКвиррелл поднял руку, собираясь наложить на Гарри смертельное заклятие, но Гарри инстинктивно рванулся вперед и ударил Квиррелла по лицу, метя в глаза\\n- А-А-А-А!\\nКвиррелл свалился с него. Все его лицо тоже покрылось ожогами. И Гарри внезапно понял. Каждый раз, дотрагиваясь до него, Квиррелл испытывал жуткую боль. Так что у Гарри был единственный шанс.\\nОн не должен был выпускать Квиррелла из рук, чтобы тот от боли позабыл обо всем на свете и не смог наложить проклятие.\\nГарри вскочил на ноги и вцепился профессору в руку. Квиррелл заверещал и попытался стряхнуть его с себя. Нои сам Гарри, только коснувшись Квиррелла, ощутил, как острая боль пронзила голову. Он снова почти ослеп. Но он слышал дикие крики Квиррелла, слышал голос Волан-де-Морта, вопившего: \"УБЕЙ ЕГО! УБЕЙ ЕГО!\" А потом пришли другие голоса, выкрикивавшие его имя. Но возможно, они ему только почудились.\\nГарри ощутил, как Квиррелл выкручивается из его захвата. Он понял, что все кончено, и провалился в темноту. Он летел все ниже, и ниже, и ниже\\n* * *\\nГарри уловил, что над ним блеснуло что-то золотое. Снитч, конечно же, это был снитч! Гарри попытался поймать его, но казалось, что руки налились свинцом.\\nОн моргнул. Это был не снитч. Это были очки. Как странно\\nОн снова моргнул. Из тумана выплыло улыбающееся лицо Альбуса Дамблдора. 0.24643655121326447'), Block(book_id=4021, position=86, text='Гарри двинулся по направлению к барьеру. Двигаться быстро было нелегко - его постоянно толкали снующие мимо люди, к тому же тележка была очень тяжелой. Но страх не попасть в Хогвартс оказался сильнее, и Гарри ускорил шаг. Он был уверен, что сейчас врежется прямо в билетную кассу и на этом все закончится, но, вспомнив слова пухлой женщины, налег на поручень тележки и тяжело побежал.\\nБарьер все приближался, и Гарри понимал, что остановиться уже не сможет, потому что ему не удастся удержать разогнавшуюся тележку. Оставалось каких-то два шага. Гарри прикрыл глаза, готовясь к удару\\nУдара не произошло, и он, не замедляя бега, открыл глаза.\\nГарри находился на забитой людьми платформе, у которой стоял паровоз алого цвета. Надпись на табло гласила: \"Хогвартс-экспресс. 11.00\". Гарри оглянулся назад и увидел, что билетная касса исчезла, а на ее месте находится арка с коваными железными воротами и табличкой: \"Платформа номер девять и три четверти\". Значит, он смог, значит, у него все получилось.\\nНад головами собравшихся на платформе людей плыли извергаемые паровозом клубы дыма, а под ногами шмыгали разноцветные кошки. До Гарри доносились голоса, скрип тяжелых чемоданов и недовольное уханье переговаривавшихся друг с другом сов.\\nПервые несколько вагонов уже были битком набиты школьниками. Они высовывались из окон, чтобы поговорить напоследок с родителями, или сражались за свободные места. Гарри двинулся дальше, заглядывая в окна вагонов в поисках местечка.\\n- Бабушка, я снова потерял жабу, - растерянно говорил круглолицый мальчик, мимо которого проходил Гарри.\\n- О, Невилл, - тяжело вздохнула пожилая женщина.\\nЧерез несколько метров дорогу Гарри преградила толпа, сгрудившаяся вокруг кудрявого мальчика.\\n- Ну покажи, Ли, - громко просили несколько голосов. - Ну давай, чего ты\\nКудрявый приподнял крышку коробки, которую держал в руках, и все стоявшие вокруг него отпрянули с криками ужаса. Гарри успел заметить, что из коробки высунулась длинная волосатая лапа. 0.2537086009979248'), Block(book_id=4021, position=254, text='- Ты куда? - сонно поинтересовался Рон.\\n- Я только что кое о чем вспомнил, - пояснил Гарри. Лицо его побелело. - Нам надо срочно пойти к Хагриду.\\n- Зачем? - десять минут спустя уже в сотый раз спрашивала Гермиона, пытаясь не отстать от несущегося впереди Гарри.\\n- Вы не думаете, что все это очень странно? - наконец произнес Гарри, взбираясь по поросшее травой склону. - Странно, что больше всего на свете Хагрид мечтал о драконе. И тут вдруг появился незнакомец, у которого чудесным образом в кармане оказалось яйцо дракона. Ведь разведение драконов запрещено. А как вы думаете, сколько людей с драконьими яйцами в карманах бродит по Англии? И скольким улыбается удача, и они встречают своего Хагрида? Почему же я раньше об этом не подумал?\\n- Не пойму, о чем это ты? - недоуменно спросил Рон, но Гарри уже перешел на бег и потому не ответил.\\nХагрид сидел в кресле в двух шагах от своей хижины, закатав рукава рубахи и подвернув штанины, и лущил горох. У его ног стояла большая кастрюля.\\n- Привет! - произнес он, улыбаясь. - Ну как, сдали все? Чайку хотите?\\n- С удовольствием - начал Рон, но Гарри оборвал его.\\n- Нет, Хагрид, мы торопимся. Мы заглянули просто для того, чтобы кое-что у тебя уточнить. Помнишь ту ночь, когда ты выиграл в карты Норберта? На кого был похож тот незнакомец?\\n- Не знаю. - Хагрид пожал плечами. Вопрос его явно не обеспокоил. - Он был в капюшоне.\\nХагрид заметил, как Гарри, Рон и Гермиона застыли, и недоуменно поднял брови.\\n- Да это обычное дело в \"Кабаньей голове\" ну в этом в баре в деревенском. Там ведь куча всякого э-э странного народа ошивается. Кого угодно встретить можно, точно, - объяснил он. - Может, это торговец драконами был, вот лицо и прятал, незаконно же это. Так что не видел я, на кого он похож.\\nГарри опустился на землю. 0.25573867559432983'), Block(book_id=4021, position=265, text='- Если со мной что-то случится, уходи отсюда, - произнес он. - Беги к Хагриду, чтобы тот немедленно отправил к Дамблдору сову, понял?\\n- Понял, - кивнул Рон.\\n- Надеюсь, скоро увидимся\\nИ с этим словами Гарри разжал пальцы и полетел вниз. Он все летел и летел, прорезая холодный влажный воздух, а дна все не было, и\\nПЛЮХ!\\nГарри приземлился со странным приглушенным звуком - похоже, он упал на что-то мягкое. Он сел и огляделся. Глаза его еще не привыкли к темноте, но было такое ощущение, словно он сидит на каком-то растении.\\n- Все в порядке! - прокричал он, подняв голову вверх, где в вышине светился открытый люк, отсюда казавшийся размером с почтовую марку. - Можешь прыгать, тебя ждет мягкая посадка!\\nЧерез мгновение рядом с Гарри оказался Рон.\\n- Это что за штука? - первым делом спросил он.\\n- Не знаю, какое-то растение, наверное, - покачал головой Гарри. - Я думаю, оно здесь специально, чтобы смягчить приземление. Давай, Гермиона!\\nДоносившаяся сверху музыка смолкла. Послышался громкий лай, но Гермиона уже летела к ним и вскоре приземлилась по соседству.\\n- Мы, наверное, в нескольких километрах под школой, - заметила она.\\n- Это точно. Нам повезло, что здесь есть это растение, - улыбнулся Рон.\\n- Повезло?! - внезапно взвизгнула Гермиона. - Да вы посмотрите на себя!\\nОна вскочила на ноги и попятилась к отсыревшей стене. Сделала она это с большим трудом, потому что в тот момент, когда она приземлилась, растение сразу начало обвиваться вокруг ее лодыжек. А что касается Гарри и Рона, то длинные ползучие побеги умудрились связать их ноги так что они даже этого не заметили.\\nГермиона успела освободиться прежде, чем растение смогло ее опутать, и теперь, прижавшись к стене, она с ужасом смотрела, как Гарри и Рон пытаются сорвать с себя стебли. Но чем больше усилий они прикладывали, тем сильнее и быстрее обвивались вокруг них змееподобные побеги. 0.25957944989204407')]\n"
     ]
    }
   ],
   "execution_count": 10
  },
  {
   "cell_type": "markdown",
   "id": "ae74ddb1",
   "metadata": {},
   "source": [
    "## Сбор обучающего датасета"
   ]
  },
  {
   "cell_type": "code",
   "id": "a3491a98",
   "metadata": {
    "ExecuteTime": {
     "end_time": "2024-10-05T13:46:27.764630Z",
     "start_time": "2024-10-05T13:46:27.761505Z"
    }
   },
   "source": [],
   "outputs": [],
   "execution_count": null
  },
  {
   "cell_type": "markdown",
   "id": "2b9ffe1f-392a-40f6-9086-1850df1acfe6",
   "metadata": {},
   "source": [
    "## RAG - первая попытка"
   ]
  },
  {
   "cell_type": "markdown",
   "id": "570a39d6-7b9f-4769-8fda-7dbacf6f3c35",
   "metadata": {},
   "source": [
    "### Сбор контекста"
   ]
  },
  {
   "cell_type": "code",
   "id": "2954f5ba-6276-4c73-85f6-e557bc6d9631",
   "metadata": {
    "ExecuteTime": {
     "end_time": "2024-10-28T18:51:29.808394Z",
     "start_time": "2024-10-28T18:51:29.804469Z"
    }
   },
   "source": [
    "def get_context(\n",
    "        file=\"data/Джоан Кэтлин Роулинг/FB2/Гарри_Поттер/Перевод_РОСМЭН/1. Гарри Поттер и Филосовский Камень.txt\",\n",
    "        block_size=1000):\n",
    "    blocks = Splitter(block_max_length=block_size).split(read_text(file))\n",
    "    embeddings = get_embedding(blocks)\n",
    "\n",
    "    def inner(line, length=10):\n",
    "        emb = get_embedding([line])\n",
    "        return get_n_best(blocks, get_similarity(embeddings, emb), length)\n",
    "\n",
    "    return inner"
   ],
   "outputs": [],
   "execution_count": 1
  },
  {
   "cell_type": "code",
   "id": "fc864a63-a132-4f04-baa3-1a95d4519aa3",
   "metadata": {
    "ExecuteTime": {
     "end_time": "2024-10-05T13:46:32.886645Z",
     "start_time": "2024-10-05T13:46:27.861574Z"
    }
   },
   "source": [
    "context_retriever = get_context()"
   ],
   "outputs": [],
   "execution_count": 18
  },
  {
   "cell_type": "code",
   "id": "a49d2ca3-e76f-43ab-a804-968440891840",
   "metadata": {
    "ExecuteTime": {
     "end_time": "2024-10-05T13:46:32.934212Z",
     "start_time": "2024-10-05T13:46:32.894319Z"
    }
   },
   "source": [
    "print('\\n\\n-------\\n\\n'.join(map(lambda x: x[1], context_retriever(\n",
    "    \"И все прошло как по маслу: Тролль был повержен, Пушок - спасен, Лестницы повернулись, куда надо\"))))"
   ],
   "outputs": [
    {
     "name": "stdout",
     "output_type": "stream",
     "text": [
      "- Продолжай играть! - шепнул Рон, когда они сняли с себя мантию и медленно двинулись к люку, который охранял Пушок. Жаркое зловонное дыхание, вырывавшееся из трех пастей, чувствовалось все сильнее. - Думаю, мы легко откроем люк, - заверил их Рон, вставая на цыпочки и бросая взгляд за спину Пушка. - Хочешь пойти первой, Гермиона?\n",
      "- Нет, ни за что! - воскликнула та, отступая назад.\n",
      "- Хорошо. - Рон скрипнул зубами, собираясь с силами, и опасливо переступил через лапы Пушка. А потом нагнулся над люком и потянул за кольцо.\n",
      "- Что ты там видишь? - возбужденно прошептала Гермиона.\n",
      "- Ничего. Темнота. Никаких ступеней не видно, придется прыгать.\n",
      "Гарри, продолжавший играть на флейте, поднял руку и помахал, привлекая внимание Рона. А потом указал пальцем на себя.\n",
      "- Ты хочешь пойти первым? Уверен? - переспросил Рон. - Честно говоря, не знаю, как далеко нам придется лететь. Отдай флейту Гермионе, Пушок не должен проснуться.\n",
      "\n",
      "-------\n",
      "\n",
      "- Ты в порядке, Гермиона? - прошептал Хагрид. - Не волнуйся, найдем мы его скоро не мог он с такой-то раной далеко уйти. Найдем, а там уж БЫСТРО ЗА ДЕРЕВО, ОБА!\n",
      "Хагрид схватил в охапку Гарри и Гермиону и, сойдя с тропинки и сделав несколько шагов в сторону, поставил их под высоченный дуб. А сам выхватил из колчана стрелу и натянул тетиву лука, готовясь выстрелить. Вокруг стояла полная тишина, но постепенно Гарри начал различать какие-то звуки. Похоже, кто-то крался к ним по опавшей листве, кто-то, одетый в волочившуюся по земле мантию. Хагрид пристально смотрел туда, откуда доносился звук, но через какое-то время звук исчез.\n",
      "- Так я и знал, - прошептал Хагрид. - Бродит тут кое-кто, кому здесь делать нечего.\n",
      "- Волк-оборотень? - спросил Гарри.\n",
      "- Не, не он и не единорог, - мрачно ответил Хагрид. - Ладно, пошли за мной, и поосторожнее. Давайте.\n",
      "Они медленно двинулись дальше, вслушиваясь тишину И вдруг уловили какое-то движение на видящейся впереди опушке.\n",
      "\n",
      "-------\n",
      "\n",
      "Когда по окончании урока они вышли из подземелья, то обнаружили, что путь им преградила неизвестно откуда взявшаяся в коридоре огромная пихта. Однако показавшиеся из-за ствола две гигантские ступни и громкое пыхтение подсказали им, что пихту принес сюда Хагрид.\n",
      "- Привет, Хагрид, помощь не нужна? - спросил Рон, просовывая голову между веток.\n",
      "- Не, я в порядке, Рон но все равно спасибо, - донеслось из-за пихты.\n",
      "- Может быть, вы будете столь любезны и дадите мне пройти, - произнес кто-то сзади, растягивая слова. Разумеется, это мог быть только Малфой. - А ты, Уизли, как я понимаю, пытаешься немного подзаработать? Я полагаю, после окончания школы ты планируешь остаться здесь в качестве лесника? Ведь хижина Хагрида по сравнению с домом твоих родителей - настоящий дворец.\n",
      "Рон прыгнул на Малфоя как раз в тот момент, когда в коридоре появился Снегг:\n",
      "- УИЗЛИ!\n",
      "Рон неохотно отпустил Малфоя, которого уже успел схватить за грудки.\n",
      "\n",
      "-------\n",
      "\n",
      "Извилистая тропинка снова сделала резкий поворот, но едва они прошли его, как Гермиона ухватила Хагрида за руку.\n",
      "- Хагрид, смотри! Красные искры, они в опасности!\n",
      "- Здесь ждите! - проорал Хагрид. - И с тропинки ни шагу. А я вернусь скоро!\n",
      "Они слышали, как он ломится через заросли. А потом снова наступила тишина, только листья шелестели вокруг. Гарри и Гермионе было очень страшно. Они стояли и смотрели друг на друга, словно это поможет им не увидеть того, чего следует опасаться, а то, чего следует опасаться, не увидит их.\n",
      "- Ты думаешь, они попали в беду? - прошептала Гермиона.\n",
      "- Если так Малфоя мне не жалко, а вот Невилл - Гарри запнулся, чувствуя свою вину. - Он ведь оказался здесь из-за нас с тобой Из-за меня\n",
      "Время словно застыло - минуты тянулись, как часы. Гарри ощутил, что слух его обострился до предела Ему казалось, что он слышит каждый вздох ветра, каждый треск ветвей. А в голове его вертелись два вопроса: что произошло с Невиллом и почему так долго не возвращается Хагрид?\n",
      "\n",
      "-------\n",
      "\n",
      "- Ну так чего там с чаем? - спросил он, потирая руки. - Я э-э и от чего-нибудь покрепче не отказался бы, если э-э у вас есть.\n",
      "Взгляд великана упал на пустой камин, в котором тоскливо лежали сморщенные пакетики из-под чипсов. Великан презрительно фыркнул и нагнулся над камином - никто не видел, что он там делает, но когда через секунду великан отодвинулся, в камине полыхал яркий огонь. Мерцающий свет залил сырую хижину, и Гарри сразу почувствовал себя так, словно залез в горячую ванну.\n",
      "\n",
      "-------\n",
      "\n",
      "- Это следовало ожидать, - пробормотал он, усмехнувшись.\n",
      "Наконец во внутреннем кармане он нашел то, что искал. Это был предмет, похожий на серебряную зажигалку. Альбус Дамблдор откинул серебряную крышечку, поднял зажигалку и щелкнул. Ближний к нему уличный фонарь тут же погас с негромким хлопком. Он снова щелкнул зажигалкой - и следующий фонарь погрузился во тьму. После двенадцати щелчков на Тисовой улице погасло все, кроме двух далеких, крошечных колючих огоньков - глаз неотрывно следившей за Дамблдором кошки. И если бы в этот момент кто-либо выглянул из своего окна - даже миссис Дурсль, от чьих глаз-бусинок ничто не могло ускользнуть, - этот человек не смог бы увидеть, что происходит на улице.\n",
      "Дамблдор засунул свою зажигалку - точнее, гасилку - обратно во внутренний карман мантии и двинулся к дому номер четыре. А дойдя до него, сел на забор рядом с кошкой и, даже не взглянув на нее, сказал:\n",
      "- Странно видеть вас здесь, профессор МакГонагалл.\n",
      "\n",
      "-------\n",
      "\n",
      "- А если то, что ранило единорога, найдет нас? спросил Малфой, не в силах скрыть охвативший его ужас.\n",
      "- Нет в лесу никого такого, кто б вам зло причинил, если вы со мной да с Клыком сюда пришли, - заверил Хагрид. - С тропинки не сходите - тогда нормально все будет. Сейчас на две группы разделимся и по следам пойдем в разные стороны, потому как их тут ну куча целая, следов. И кровь повсюду. Он, должно быть, со вчерашней ночи тут шатается, единорог-то а может, и с позавчерашней.\n",
      "- Я хочу вести собаку! - быстро заявил Малфой, глядя на внушительные собачьи клыки.\n",
      "- Хорошо, но я тебя предупрежу: псина-то трусливая, - пожал плечами Хагрид. - Значит, так, Гарри и Гермиона со мной пойдут, а ты, Малфой, и ты, Невилл, с Клыком будете. Если кто находит единорога, зеленые искры посылает, поняли? Палочки доставайте и потренируйтесь прямо сейчас ага, вот так А если кто в беду попадет, тогда пусть красные искры посылает, мы сразу на помощь придем. Ну все, поосторожнее будьте а сейчас пошли, пора нам.\n",
      "\n",
      "-------\n",
      "\n",
      "- Взорвалась? - спросил он. - Вы же говорили, что мои родители погибли в автокатастрофе!\n",
      "- АВТОКАТАСТРОФА?! - прогремел Хагрид и так яростно вскочил с софы, что Дурсли попятились обратно в угол. - Да как могла автокатастрофа погубить Лили и Джеймса Поттеров? Ну и ну, вот дела-то! Вот это да! Да быть такого не может, чтоб Гарри Поттер ничего про себя не знал! Да у нас его историю любой ребенок с пеленок знает! И родителей твоих тоже!\n",
      "- Но почему? - В голосе Гарри появилась настойчивость. - И что с ними случилось, с мамой и папой?\n",
      "Ярость сошла с лица Хагрида. На смену ей вдруг пришла озабоченность.\n",
      "- Да, не ждал я такого, - произнес он низким, взволнованным голосом. - Дамблдор меня предупреждал, конечно, что непросто будет ну забрать тебя у этих Но я и подумать не мог, что ты вообще ничего не знаешь. Не я, Гарри, должен бы рассказать тебе обо всем э-э но кто-то ж должен, так? Ну не можешь ты ехать в Хогвартс, не зная, кто ты такой.\n",
      "Он мрачно посмотрел на Дурслей.\n",
      "\n",
      "-------\n",
      "\n",
      "- Где вы были? - спросила та, глядя на их пылающие потные лица.\n",
      "- Неважно, - с трудом выдохнул задыхающийся Гарри. - Свиной пятачок, свиной пятачок!\n",
      "Портрет отъехал в сторону, и они пробрались сквозь дыру в стене в Общую гостиную и устало повалились в кресла, дрожа от долгого бега и всего пережитого.\n",
      "Прошло много времени, прежде чем кто-то из них нарушил тишину. А у Невилла и вовсе был такой вид, словно он никогда уже не будет говорить.\n",
      "- Что они себе, интересно, думают? - Рон первым обрел дар речи. - Надо же додуматься до такого - держать в школе этого пса. Этой твари явно надо поразмяться, а не сидеть взаперти.\n",
      "Гермиона тоже пришла в себя, и к ней тут же вернулось плохое настроение.\n",
      "- А зачем вам глаза, хотела бы я знать? - недовольно поинтересовалась она. - Вы что, не видели, на чем этот пес стоял?\n",
      "- На полу, - предположил Гарри. - Хотя вообще-то я не смотрел на его лапы - с меня вполне хватило голов.\n",
      "- Нет, он стоял не на полу, а на люке. Дураку понятно, что он там что-то охраняет.\n",
      "\n",
      "-------\n",
      "\n",
      "- Рубеус! Рубеус Хагрид! Рад видеть вас снова Дуб, шестнадцать дюймов, очень подвижная, не так ли?\n",
      "- Так и было, да, сэр, - ответил Хагрид.\n",
      "- Хорошая была палочка. Но, как я понимаю, ее переломили надвое, когда вас отчислили? - Мистер Олливандер внезапно посуровел.\n",
      "- Э-э-э Да, так и было, сэр, - согласился Хагрид, изучая свои ноги и зачем-то вытирая их об пол. И вдруг просиял. - Но зато у меня остались обломки.\n",
      "- Надеюсь, вы их не используете? - строго спросил мистер Олливандер.\n",
      "- О, конечно нет, сэр, - быстро ответил Хагрид.\n",
      "Гарри заметил, что Хагрид очень крепко сжал свой розовый зонтик.\n",
      "- Гм-м-м, - задумчиво протянул мистер Олливандер, не сводя с Хагрида испытующего взгляда. - Ладно, а теперь вы, мистер Поттер. Дайте мне подумать. - Он вытащил из кармана длинную линейку с серебряными делениями. - Какой рукой вы держите палочку?\n",
      "- Я?.. - замялся Гарри, наконец спохватившись. - А, я правша!\n",
      "- Вытяните руку. Вот так.\n"
     ]
    }
   ],
   "execution_count": 19
  },
  {
   "cell_type": "code",
   "id": "b15bf3ae-595f-443f-bfb2-0541973ca94b",
   "metadata": {
    "ExecuteTime": {
     "end_time": "2024-10-05T13:46:32.943217Z",
     "start_time": "2024-10-05T13:46:32.941445Z"
    }
   },
   "source": [
    "def make_prompt(query, with_context=True):\n",
    "    context = ''\n",
    "    if with_context:\n",
    "        context = '\\n\\n-------\\n\\n'.join(map(lambda x: x[1], context_retriever(query)))\n",
    "    return \"\"\"\n",
    "        {}\n",
    "        {}\n",
    "    \"\"\".format(context, query)"
   ],
   "outputs": [],
   "execution_count": 20
  },
  {
   "metadata": {
    "ExecuteTime": {
     "end_time": "2024-10-05T13:46:33.045991Z",
     "start_time": "2024-10-05T13:46:32.994810Z"
    }
   },
   "cell_type": "code",
   "source": "prompt = make_prompt(\"И все прошло как по маслу: Тролль был повержен, Пушок - спасен, Лестницы повернулись, куда надо\")\n",
   "id": "8173b5d48df38480",
   "outputs": [],
   "execution_count": 21
  },
  {
   "cell_type": "code",
   "id": "6c64c958-aabd-420f-8368-c32584b2a9a5",
   "metadata": {
    "ExecuteTime": {
     "end_time": "2024-10-28T19:23:51.795449Z",
     "start_time": "2024-10-28T19:23:36.792627Z"
    }
   },
   "source": [
    "from unsloth import FastLanguageModel\n",
    "\n",
    "max_seq_length = 2048  # Choose any! We auto support RoPE Scaling internally!\n",
    "dtype = None  # None for auto detection. Float16 for Tesla T4, V100, Bfloat16 for Ampere+\n",
    "load_in_4bit = True  # Use 4bit quantization to reduce memory usage. Can be False.\n",
    "\n",
    "# 4bit pre quantized models we support for 4x faster downloading + no OOMs.\n",
    "fourbit_models = [\n",
    "    \"unsloth/Meta-Llama-3.1-8B-bnb-4bit\",  # Llama-3.1 15 trillion tokens model 2x faster!\n",
    "    \"unsloth/Meta-Llama-3.1-8B-Instruct-bnb-4bit\",\n",
    "    \"unsloth/Meta-Llama-3.1-70B-bnb-4bit\",\n",
    "    \"unsloth/Meta-Llama-3.1-405B-bnb-4bit\",  # We also uploaded 4bit for 405b!\n",
    "    \"unsloth/Mistral-Nemo-Base-2407-bnb-4bit\",  # New Mistral 12b 2x faster!\n",
    "    \"unsloth/Mistral-Nemo-Instruct-2407-bnb-4bit\",\n",
    "    \"unsloth/mistral-7b-v0.3-bnb-4bit\",  # Mistral v3 2x faster!\n",
    "    \"unsloth/mistral-7b-instruct-v0.3-bnb-4bit\",\n",
    "    \"unsloth/Phi-3.5-mini-instruct\",  # Phi-3.5 2x faster!\n",
    "    \"unsloth/Phi-3-medium-4k-instruct\",\n",
    "    \"unsloth/gemma-2-9b-bnb-4bit\",\n",
    "    \"unsloth/gemma-2-27b-bnb-4bit\",  # Gemma 2x faster!\n",
    "]  # More models at https://huggingface.co/unsloth\n",
    "\n",
    "embedding_model, tokenizer = FastLanguageModel.from_pretrained(\n",
    "    model_name=\"unsloth/Meta-Llama-3.1-8B\",\n",
    "    max_seq_length=max_seq_length,\n",
    "    dtype=dtype,\n",
    "    load_in_4bit=load_in_4bit,\n",
    "    # token = \"hf_...\", # use one if using gated models like meta-llama/Llama-2-7b-hf\n",
    ")"
   ],
   "outputs": [
    {
     "name": "stdout",
     "output_type": "stream",
     "text": [
      "🦥 Unsloth: Will patch your computer to enable 2x faster free finetuning.\n",
      "==((====))==  Unsloth 2024.10.7: Fast Llama patching. Transformers = 4.44.2.\n",
      "   \\\\   /|    GPU: NVIDIA GeForce RTX 4070 Laptop GPU. Max memory: 7.653 GB. Platform = Linux.\n",
      "O^O/ \\_/ \\    Pytorch: 2.5.0+cu124. CUDA = 8.9. CUDA Toolkit = 12.4.\n",
      "\\        /    Bfloat16 = TRUE. FA [Xformers = 0.0.28.post2. FA2 = False]\n",
      " \"-____-\"     Free Apache license: http://github.com/unslothai/unsloth\n"
     ]
    },
    {
     "name": "stderr",
     "output_type": "stream",
     "text": [
      "<string>:209: SyntaxWarning: invalid escape sequence '\\ '\n",
      "<string>:210: SyntaxWarning: invalid escape sequence '\\_'\n",
      "<string>:211: SyntaxWarning: invalid escape sequence '\\ '\n",
      "<string>:209: SyntaxWarning: invalid escape sequence '\\ '\n",
      "<string>:210: SyntaxWarning: invalid escape sequence '\\_'\n",
      "<string>:211: SyntaxWarning: invalid escape sequence '\\ '\n",
      "Unsloth: We fixed a gradient accumulation bug, but it seems like you don't have the latest transformers version!\n",
      "Please update transformers, TRL and unsloth via:\n",
      "`pip install --upgrade --no-cache-dir unsloth git+https://github.com/huggingface/transformers.git git+https://github.com/huggingface/trl.git`\n"
     ]
    }
   ],
   "execution_count": 1
  },
  {
   "metadata": {
    "ExecuteTime": {
     "end_time": "2024-10-28T19:08:45.928160Z",
     "start_time": "2024-10-28T19:08:44.931803Z"
    }
   },
   "cell_type": "code",
   "source": [
    "import torch\n",
    "torch.cuda.is_available()"
   ],
   "id": "cf250be1097083a9",
   "outputs": [
    {
     "data": {
      "text/plain": [
       "True"
      ]
     },
     "execution_count": 1,
     "metadata": {},
     "output_type": "execute_result"
    }
   ],
   "execution_count": 1
  },
  {
   "cell_type": "code",
   "id": "a14dce93-66cf-4b13-b114-6da561c1974a",
   "metadata": {
    "ExecuteTime": {
     "end_time": "2024-10-28T19:23:57.326038Z",
     "start_time": "2024-10-28T19:23:57.321663Z"
    }
   },
   "source": [
    "# alpaca_prompt = Copied from above\n",
    "FastLanguageModel.for_inference(embedding_model)  # Enable native 2x faster prompt\n"
   ],
   "outputs": [
    {
     "data": {
      "text/plain": [
       "LlamaForCausalLM(\n",
       "  (model): LlamaModel(\n",
       "    (embed_tokens): Embedding(128256, 4096)\n",
       "    (layers): ModuleList(\n",
       "      (0-31): 32 x LlamaDecoderLayer(\n",
       "        (self_attn): LlamaAttention(\n",
       "          (q_proj): Linear4bit(in_features=4096, out_features=4096, bias=False)\n",
       "          (k_proj): Linear4bit(in_features=4096, out_features=1024, bias=False)\n",
       "          (v_proj): Linear4bit(in_features=4096, out_features=1024, bias=False)\n",
       "          (o_proj): Linear4bit(in_features=4096, out_features=4096, bias=False)\n",
       "          (rotary_emb): LlamaExtendedRotaryEmbedding()\n",
       "        )\n",
       "        (mlp): LlamaMLP(\n",
       "          (gate_proj): Linear4bit(in_features=4096, out_features=14336, bias=False)\n",
       "          (up_proj): Linear4bit(in_features=4096, out_features=14336, bias=False)\n",
       "          (down_proj): Linear4bit(in_features=14336, out_features=4096, bias=False)\n",
       "          (act_fn): SiLU()\n",
       "        )\n",
       "        (input_layernorm): LlamaRMSNorm((4096,), eps=1e-05)\n",
       "        (post_attention_layernorm): LlamaRMSNorm((4096,), eps=1e-05)\n",
       "      )\n",
       "    )\n",
       "    (norm): LlamaRMSNorm((4096,), eps=1e-05)\n",
       "    (rotary_emb): LlamaRotaryEmbedding()\n",
       "  )\n",
       "  (lm_head): Linear(in_features=4096, out_features=128256, bias=False)\n",
       ")"
      ]
     },
     "execution_count": 2,
     "metadata": {},
     "output_type": "execute_result"
    }
   ],
   "execution_count": 2
  },
  {
   "metadata": {},
   "cell_type": "code",
   "source": [
    "prompt = \"Hello, how are you?\"\n",
    "tokens = tokenizer([prompt], return_tensors=\"pt\").to(\"cuda\")\n",
    "embedding_model.generate(**tokens)\n"
   ],
   "id": "a61f173c63838748",
   "outputs": [],
   "execution_count": null
  },
  {
   "cell_type": "code",
   "id": "649256f4-a300-4c8a-b7b9-7c377dd8adad",
   "metadata": {
    "ExecuteTime": {
     "end_time": "2024-10-05T13:48:12.391917Z",
     "start_time": "2024-10-05T13:48:12.389188Z"
    }
   },
   "source": [
    "def generate_text(prompt):\n",
    "    inputs = tokenizer([prompt], return_tensors=\"pt\").to(\"cuda\")\n",
    "    outputs = embedding_model.generate(**inputs, max_new_tokens=512, use_cache=True)\n",
    "    return tokenizer.batch_decode(outputs)\n"
   ],
   "outputs": [],
   "execution_count": 28
  },
  {
   "cell_type": "code",
   "id": "8c62725a-46bf-4f6a-84fa-34e557cb39d6",
   "metadata": {
    "ExecuteTime": {
     "end_time": "2024-10-05T13:48:14.378375Z",
     "start_time": "2024-10-05T13:48:14.170501Z"
    }
   },
   "source": [
    "generate_text(\n",
    "    prompt\n",
    ")"
   ],
   "outputs": [
    {
     "name": "stderr",
     "output_type": "stream",
     "text": [
      "/home/yshmgrt/Programming/the-dialogue-system/.venv/lib/python3.12/site-packages/unsloth/models/llama.py:1498: SyntaxWarning: invalid escape sequence '\\ '\n",
      "  f\"   \\\\\\   /|    GPU: {gpu_stats.name}. Max memory: {max_memory} GB. Platform = {platform_system}.\\n\"\\\n",
      "/home/yshmgrt/Programming/the-dialogue-system/.venv/lib/python3.12/site-packages/unsloth/models/llama.py:1499: SyntaxWarning: invalid escape sequence '\\_'\n",
      "  f\"O^O/ \\_/ \\\\    Pytorch: {torch.__version__}. CUDA = {gpu_stats.major}.{gpu_stats.minor}. CUDA Toolkit = {torch.version.cuda}.\\n\"\\\n",
      "/home/yshmgrt/Programming/the-dialogue-system/.venv/lib/python3.12/site-packages/unsloth/models/llama.py:1500: SyntaxWarning: invalid escape sequence '\\ '\n",
      "  f\"\\        /    Bfloat16 = {str(SUPPORTS_BFLOAT16).upper()}. FA [Xformers = {xformers_version}. FA2 = {HAS_FLASH_ATTENTION}]\\n\"\\\n",
      "/home/yshmgrt/Programming/the-dialogue-system/.venv/lib/python3.12/site-packages/unsloth/models/llama.py:1647: SyntaxWarning: invalid escape sequence '\\.'\n",
      "  start = re.search('logger\\.info\\([\\\"\\'].+?Running training', inner_training_loop).span(0)[0]\n",
      "/home/yshmgrt/Programming/the-dialogue-system/.venv/lib/python3.12/site-packages/unsloth/models/llama.py:1650: SyntaxWarning: invalid escape sequence '\\s'\n",
      "  spaces = re.search('\\n([\\s\\t]{1,})', original_debug).group(0)[1:]\n",
      "/home/yshmgrt/Programming/the-dialogue-system/.venv/lib/python3.12/site-packages/unsloth/models/llama.py:1651: SyntaxWarning: invalid escape sequence '\\s'\n",
      "  front_spaces = re.match('([\\s\\t]{1,})', inner_training_loop).group(0)\n"
     ]
    },
    {
     "ename": "ValueError",
     "evalue": "The following `model_kwargs` are not used by the model: ['load_in_4bit'] (note: typos in the generate arguments will also show up in this list)",
     "output_type": "error",
     "traceback": [
      "\u001B[0;31m---------------------------------------------------------------------------\u001B[0m",
      "\u001B[0;31mValueError\u001B[0m                                Traceback (most recent call last)",
      "Cell \u001B[0;32mIn[29], line 1\u001B[0m\n\u001B[0;32m----> 1\u001B[0m \u001B[43mgenerate_text\u001B[49m\u001B[43m(\u001B[49m\n\u001B[1;32m      2\u001B[0m \u001B[43m    \u001B[49m\u001B[43mprompt\u001B[49m\n\u001B[1;32m      3\u001B[0m \u001B[43m)\u001B[49m\n",
      "Cell \u001B[0;32mIn[28], line 3\u001B[0m, in \u001B[0;36mgenerate_text\u001B[0;34m(prompt)\u001B[0m\n\u001B[1;32m      1\u001B[0m \u001B[38;5;28;01mdef\u001B[39;00m \u001B[38;5;21mgenerate_text\u001B[39m(prompt):\n\u001B[1;32m      2\u001B[0m     inputs \u001B[38;5;241m=\u001B[39m tokenizer([ prompt ], return_tensors \u001B[38;5;241m=\u001B[39m \u001B[38;5;124m\"\u001B[39m\u001B[38;5;124mpt\u001B[39m\u001B[38;5;124m\"\u001B[39m)\u001B[38;5;241m.\u001B[39mto(\u001B[38;5;124m\"\u001B[39m\u001B[38;5;124mcuda\u001B[39m\u001B[38;5;124m\"\u001B[39m)\n\u001B[0;32m----> 3\u001B[0m     outputs \u001B[38;5;241m=\u001B[39m \u001B[43mmodel\u001B[49m\u001B[38;5;241;43m.\u001B[39;49m\u001B[43mgenerate\u001B[49m\u001B[43m(\u001B[49m\u001B[38;5;241;43m*\u001B[39;49m\u001B[38;5;241;43m*\u001B[39;49m\u001B[43minputs\u001B[49m\u001B[43m,\u001B[49m\u001B[43m \u001B[49m\u001B[43mmax_new_tokens\u001B[49m\u001B[43m \u001B[49m\u001B[38;5;241;43m=\u001B[39;49m\u001B[43m \u001B[49m\u001B[38;5;241;43m512\u001B[39;49m\u001B[43m,\u001B[49m\u001B[43m \u001B[49m\u001B[43muse_cache\u001B[49m\u001B[43m \u001B[49m\u001B[38;5;241;43m=\u001B[39;49m\u001B[43m \u001B[49m\u001B[38;5;28;43;01mTrue\u001B[39;49;00m\u001B[43m,\u001B[49m\u001B[43m \u001B[49m\u001B[43mload_in_4bit\u001B[49m\u001B[43m \u001B[49m\u001B[38;5;241;43m=\u001B[39;49m\u001B[43m \u001B[49m\u001B[38;5;28;43;01mTrue\u001B[39;49;00m\u001B[43m)\u001B[49m\n\u001B[1;32m      4\u001B[0m     \u001B[38;5;28;01mreturn\u001B[39;00m tokenizer\u001B[38;5;241m.\u001B[39mbatch_decode(outputs)\n",
      "File \u001B[0;32m~/Programming/the-dialogue-system/.venv/lib/python3.12/site-packages/torch/utils/_contextlib.py:116\u001B[0m, in \u001B[0;36mcontext_decorator.<locals>.decorate_context\u001B[0;34m(*args, **kwargs)\u001B[0m\n\u001B[1;32m    113\u001B[0m \u001B[38;5;129m@functools\u001B[39m\u001B[38;5;241m.\u001B[39mwraps(func)\n\u001B[1;32m    114\u001B[0m \u001B[38;5;28;01mdef\u001B[39;00m \u001B[38;5;21mdecorate_context\u001B[39m(\u001B[38;5;241m*\u001B[39margs, \u001B[38;5;241m*\u001B[39m\u001B[38;5;241m*\u001B[39mkwargs):\n\u001B[1;32m    115\u001B[0m     \u001B[38;5;28;01mwith\u001B[39;00m ctx_factory():\n\u001B[0;32m--> 116\u001B[0m         \u001B[38;5;28;01mreturn\u001B[39;00m \u001B[43mfunc\u001B[49m\u001B[43m(\u001B[49m\u001B[38;5;241;43m*\u001B[39;49m\u001B[43margs\u001B[49m\u001B[43m,\u001B[49m\u001B[43m \u001B[49m\u001B[38;5;241;43m*\u001B[39;49m\u001B[38;5;241;43m*\u001B[39;49m\u001B[43mkwargs\u001B[49m\u001B[43m)\u001B[49m\n",
      "File \u001B[0;32m~/Programming/the-dialogue-system/.venv/lib/python3.12/site-packages/unsloth/models/llama.py:1407\u001B[0m, in \u001B[0;36m_wrap_fast_inference.<locals>._fast_generate\u001B[0;34m(*args, **kwargs)\u001B[0m\n\u001B[1;32m   1400\u001B[0m \u001B[38;5;66;03m# Set pad token\u001B[39;00m\n\u001B[1;32m   1401\u001B[0m \u001B[38;5;66;03m# old_pad_token_id = getattr(model.config, \"pad_token_id\", None)\u001B[39;00m\n\u001B[1;32m   1402\u001B[0m \u001B[38;5;66;03m# old_eos_token_id = getattr(model.config, \"eos_token_id\", None)\u001B[39;00m\n\u001B[1;32m   1403\u001B[0m \u001B[38;5;66;03m# model.config.pad_token_id = old_eos_token_id\u001B[39;00m\n\u001B[1;32m   1404\u001B[0m \n\u001B[1;32m   1405\u001B[0m \u001B[38;5;66;03m# Autocasted\u001B[39;00m\n\u001B[1;32m   1406\u001B[0m \u001B[38;5;28;01mwith\u001B[39;00m torch\u001B[38;5;241m.\u001B[39mautocast(device_type \u001B[38;5;241m=\u001B[39m device_type, dtype \u001B[38;5;241m=\u001B[39m dtype):\n\u001B[0;32m-> 1407\u001B[0m     output \u001B[38;5;241m=\u001B[39m \u001B[43mgenerate\u001B[49m\u001B[43m(\u001B[49m\u001B[38;5;241;43m*\u001B[39;49m\u001B[43margs\u001B[49m\u001B[43m,\u001B[49m\u001B[43m \u001B[49m\u001B[38;5;241;43m*\u001B[39;49m\u001B[38;5;241;43m*\u001B[39;49m\u001B[43mkwargs\u001B[49m\u001B[43m)\u001B[49m\n\u001B[1;32m   1408\u001B[0m \u001B[38;5;28;01mpass\u001B[39;00m\n\u001B[1;32m   1410\u001B[0m \u001B[38;5;66;03m# Revert\u001B[39;00m\n\u001B[1;32m   1411\u001B[0m \u001B[38;5;66;03m# model.config.pad_token_id = old_pad_token_id\u001B[39;00m\n\u001B[1;32m   1412\u001B[0m \n\u001B[1;32m   1413\u001B[0m \u001B[38;5;66;03m# Unset a flag for generation!\u001B[39;00m\n",
      "File \u001B[0;32m~/Programming/the-dialogue-system/.venv/lib/python3.12/site-packages/torch/utils/_contextlib.py:116\u001B[0m, in \u001B[0;36mcontext_decorator.<locals>.decorate_context\u001B[0;34m(*args, **kwargs)\u001B[0m\n\u001B[1;32m    113\u001B[0m \u001B[38;5;129m@functools\u001B[39m\u001B[38;5;241m.\u001B[39mwraps(func)\n\u001B[1;32m    114\u001B[0m \u001B[38;5;28;01mdef\u001B[39;00m \u001B[38;5;21mdecorate_context\u001B[39m(\u001B[38;5;241m*\u001B[39margs, \u001B[38;5;241m*\u001B[39m\u001B[38;5;241m*\u001B[39mkwargs):\n\u001B[1;32m    115\u001B[0m     \u001B[38;5;28;01mwith\u001B[39;00m ctx_factory():\n\u001B[0;32m--> 116\u001B[0m         \u001B[38;5;28;01mreturn\u001B[39;00m \u001B[43mfunc\u001B[49m\u001B[43m(\u001B[49m\u001B[38;5;241;43m*\u001B[39;49m\u001B[43margs\u001B[49m\u001B[43m,\u001B[49m\u001B[43m \u001B[49m\u001B[38;5;241;43m*\u001B[39;49m\u001B[38;5;241;43m*\u001B[39;49m\u001B[43mkwargs\u001B[49m\u001B[43m)\u001B[49m\n",
      "File \u001B[0;32m~/Programming/the-dialogue-system/.venv/lib/python3.12/site-packages/transformers/generation/utils.py:1689\u001B[0m, in \u001B[0;36mGenerationMixin.generate\u001B[0;34m(self, inputs, generation_config, logits_processor, stopping_criteria, prefix_allowed_tokens_fn, synced_gpus, assistant_model, streamer, negative_prompt_ids, negative_prompt_attention_mask, **kwargs)\u001B[0m\n\u001B[1;32m   1687\u001B[0m tokenizer \u001B[38;5;241m=\u001B[39m kwargs\u001B[38;5;241m.\u001B[39mpop(\u001B[38;5;124m\"\u001B[39m\u001B[38;5;124mtokenizer\u001B[39m\u001B[38;5;124m\"\u001B[39m, \u001B[38;5;28;01mNone\u001B[39;00m)  \u001B[38;5;66;03m# Pull this out first, we only use it for stopping criteria\u001B[39;00m\n\u001B[1;32m   1688\u001B[0m generation_config, model_kwargs \u001B[38;5;241m=\u001B[39m \u001B[38;5;28mself\u001B[39m\u001B[38;5;241m.\u001B[39m_prepare_generation_config(generation_config, \u001B[38;5;241m*\u001B[39m\u001B[38;5;241m*\u001B[39mkwargs)\n\u001B[0;32m-> 1689\u001B[0m \u001B[38;5;28;43mself\u001B[39;49m\u001B[38;5;241;43m.\u001B[39;49m\u001B[43m_validate_model_kwargs\u001B[49m\u001B[43m(\u001B[49m\u001B[43mmodel_kwargs\u001B[49m\u001B[38;5;241;43m.\u001B[39;49m\u001B[43mcopy\u001B[49m\u001B[43m(\u001B[49m\u001B[43m)\u001B[49m\u001B[43m)\u001B[49m\n\u001B[1;32m   1690\u001B[0m \u001B[38;5;28mself\u001B[39m\u001B[38;5;241m.\u001B[39m_validate_assistant(assistant_model)\n\u001B[1;32m   1692\u001B[0m \u001B[38;5;66;03m# 2. Set generation parameters if not already defined\u001B[39;00m\n",
      "File \u001B[0;32m~/Programming/the-dialogue-system/.venv/lib/python3.12/site-packages/transformers/generation/utils.py:1243\u001B[0m, in \u001B[0;36mGenerationMixin._validate_model_kwargs\u001B[0;34m(self, model_kwargs)\u001B[0m\n\u001B[1;32m   1240\u001B[0m         unused_model_args\u001B[38;5;241m.\u001B[39mappend(key)\n\u001B[1;32m   1242\u001B[0m \u001B[38;5;28;01mif\u001B[39;00m unused_model_args:\n\u001B[0;32m-> 1243\u001B[0m     \u001B[38;5;28;01mraise\u001B[39;00m \u001B[38;5;167;01mValueError\u001B[39;00m(\n\u001B[1;32m   1244\u001B[0m         \u001B[38;5;124mf\u001B[39m\u001B[38;5;124m\"\u001B[39m\u001B[38;5;124mThe following `model_kwargs` are not used by the model: \u001B[39m\u001B[38;5;132;01m{\u001B[39;00munused_model_args\u001B[38;5;132;01m}\u001B[39;00m\u001B[38;5;124m (note: typos in the\u001B[39m\u001B[38;5;124m\"\u001B[39m\n\u001B[1;32m   1245\u001B[0m         \u001B[38;5;124m\"\u001B[39m\u001B[38;5;124m generate arguments will also show up in this list)\u001B[39m\u001B[38;5;124m\"\u001B[39m\n\u001B[1;32m   1246\u001B[0m     )\n",
      "\u001B[0;31mValueError\u001B[0m: The following `model_kwargs` are not used by the model: ['load_in_4bit'] (note: typos in the generate arguments will also show up in this list)"
     ]
    }
   ],
   "execution_count": 29
  },
  {
   "cell_type": "code",
   "id": "03ad4757-1383-41fd-b579-d7394d26d4b6",
   "metadata": {
    "ExecuteTime": {
     "end_time": "2024-10-05T13:47:39.971804Z",
     "start_time": "2024-10-05T13:47:39.815681Z"
    }
   },
   "source": [
    "generate_text(\n",
    "    make_prompt(\"И все прошло как по маслу: Тролль был повержен, Пушок - спасен, Лестницы повернулись, куда надо\",\n",
    "                with_context=False)\n",
    ")"
   ],
   "outputs": [
    {
     "data": {
      "text/plain": [
       "['<|begin_of_text|>\\n        \\n        И все прошло как по маслу: Тролль был повержен, Пушок - спасен, Лестницы повернулись, куда надо\\n    <|end_of_text|>']"
      ]
     },
     "execution_count": 27,
     "metadata": {},
     "output_type": "execute_result"
    }
   ],
   "execution_count": 27
  },
  {
   "metadata": {
    "ExecuteTime": {
     "end_time": "2024-10-05T13:47:11.394915Z",
     "start_time": "2024-10-05T13:47:11.393380Z"
    }
   },
   "cell_type": "code",
   "source": "",
   "id": "c7e3d9ef4e8f1092",
   "outputs": [],
   "execution_count": null
  }
 ],
 "metadata": {
  "kernelspec": {
   "display_name": "Python 3 (ipykernel)",
   "language": "python",
   "name": "python3"
  },
  "language_info": {
   "codemirror_mode": {
    "name": "ipython",
    "version": 3
   },
   "file_extension": ".py",
   "mimetype": "text/x-python",
   "name": "python",
   "nbconvert_exporter": "python",
   "pygments_lexer": "ipython3",
   "version": "3.12.6"
  }
 },
 "nbformat": 4,
 "nbformat_minor": 5
}
