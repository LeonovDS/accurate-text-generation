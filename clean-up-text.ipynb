{
 "cells": [
  {
   "cell_type": "code",
   "execution_count": 1,
   "id": "75c81ab2-2ba5-4a20-ab6d-686b31eaf329",
   "metadata": {},
   "outputs": [],
   "source": [
    "INPUT_DIR = 'data'\n",
    "OUTPUT_DIR = 'data_mod'"
   ]
  },
  {
   "cell_type": "code",
   "execution_count": 4,
   "id": "070dd1fd",
   "metadata": {},
   "outputs": [],
   "source": [
    "import re\n",
    "\n",
    "def process_text(text: str) -> str:\n",
    "    # 1. Replace all variants of dashes with a hyphen\n",
    "    text = re.sub(r'[‐‑–—―]', '-', text)\n",
    "    \n",
    "    # 2. Replace all whitespace characters (except for newlines) with a space\n",
    "    text = re.sub(r'[ \\t\\r\\f\\v\\u2002\\u2005\\u2008\\u200a\\u200b\\u3000\\ufeff]', ' ', text)\n",
    "\n",
    "    # 3. Replace all variants of quotes with a double quote (\")\n",
    "    text = re.sub(r'[“”„«»‹›]', '\"', text)\n",
    "\n",
    "    # 4. Replace all variants of apostrophes with a single quote (')\n",
    "    text = re.sub(r'[‘’‚`´ʼʾ]', \"'\", text)\n",
    "    \n",
    "    # 5. Keep only English, Russian alphabets, basic punctuation, and numbers\n",
    "    allowed_chars = re.compile(r'[^A-Za-zА-Яа-яЁё0-9\\n!\"#$%&\\'()*+,\\-./:;<=>?@\\[\\\\\\]^_`{|}~ ]')\n",
    "    text = allowed_chars.sub(' ', text)\n",
    "    text = re.sub(r'[ ]+', ' ', text)    \n",
    "    return text\n"
   ]
  },
  {
   "cell_type": "code",
   "execution_count": 5,
   "id": "be0a6d50",
   "metadata": {},
   "outputs": [],
   "source": [
    "import os\n",
    "\n",
    "def process_all_files(INP_DIR: str, OUT_DIR: str):\n",
    "    for root, dirs, files in os.walk(INP_DIR):\n",
    "        for file in files:\n",
    "            if file.endswith(\".txt\"):\n",
    "                # Full path of the input file\n",
    "                inp_file_path = os.path.join(root, file)\n",
    "\n",
    "                # Calculate corresponding output path\n",
    "                relative_path = os.path.relpath(root, INP_DIR)\n",
    "                out_dir_path = os.path.join(OUT_DIR, relative_path)\n",
    "                os.makedirs(out_dir_path, exist_ok=True)\n",
    "                out_file_path = os.path.join(out_dir_path, file)\n",
    "\n",
    "                # Read, process, and save content\n",
    "                with open(inp_file_path, \"r\", encoding=\"utf-8\") as inp_file:\n",
    "                    content = inp_file.read()\n",
    "\n",
    "                processed_content = process_text(content)\n",
    "\n",
    "                with open(out_file_path, \"w\", encoding=\"utf-8\") as out_file:\n",
    "                    out_file.write(processed_content)\n"
   ]
  },
  {
   "cell_type": "code",
   "execution_count": 6,
   "id": "520fbb86",
   "metadata": {},
   "outputs": [],
   "source": "process_all_files(INPUT_DIR, OUTPUT_DIR)"
  },
  {
   "cell_type": "code",
   "execution_count": 7,
   "id": "a324bba5-da9a-4509-98b1-4b1d6de38ec3",
   "metadata": {},
   "outputs": [],
   "source": [
    "chars = set()\n",
    "\n",
    "for root, dirs, files in os.walk(OUTPUT_DIR):\n",
    "    for file in files:\n",
    "        with open(os.path.join(root, file), 'r') as inp:\n",
    "            for char in inp.read():\n",
    "                chars.add(char)"
   ]
  },
  {
   "cell_type": "code",
   "execution_count": null,
   "id": "53cd39ad",
   "metadata": {},
   "outputs": [],
   "source": []
  }
 ],
 "metadata": {
  "kernelspec": {
   "display_name": ".venv",
   "language": "python",
   "name": "python3"
  },
  "language_info": {
   "codemirror_mode": {
    "name": "ipython",
    "version": 3
   },
   "file_extension": ".py",
   "mimetype": "text/x-python",
   "name": "python",
   "nbconvert_exporter": "python",
   "pygments_lexer": "ipython3",
   "version": "3.12.6"
  }
 },
 "nbformat": 4,
 "nbformat_minor": 5
}
